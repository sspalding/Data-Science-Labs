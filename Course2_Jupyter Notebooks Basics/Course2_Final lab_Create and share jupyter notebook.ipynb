{
 "cells": [
  {
   "cell_type": "markdown",
   "id": "9aec675f-171d-4891-b773-b29de2942cd3",
   "metadata": {},
   "source": [
    "# My Jupyter Notebook on IBM Watson Studio"
   ]
  },
  {
   "cell_type": "markdown",
   "id": "8721ac9b-4dc1-4271-9404-bbd9b3ccbbd5",
   "metadata": {},
   "source": [
    "**Sarah Spalding**  \n",
    "Clinical Data Scientist"
   ]
  },
  {
   "cell_type": "markdown",
   "id": "b698d6dd-d9b7-4b63-b84b-4c040d9ebe0b",
   "metadata": {},
   "source": [
    "*I am interested in data science because I enjoy the problem solving and creativity of it. I also love data science because of the real-world impact it has*"
   ]
  },
  {
   "cell_type": "markdown",
   "id": "1cb7d8e4-1ff7-4c84-b69b-129f697a5ddb",
   "metadata": {},
   "source": [
    "### The code below demonstrates basic math"
   ]
  },
  {
   "cell_type": "code",
   "execution_count": 1,
   "id": "7c5947a7-2a99-4f6f-a206-fe4429ea91d1",
   "metadata": {},
   "outputs": [
    {
     "data": {
      "text/plain": [
       "2"
      ]
     },
     "execution_count": 1,
     "metadata": {},
     "output_type": "execute_result"
    }
   ],
   "source": [
    "1+1"
   ]
  },
  {
   "cell_type": "markdown",
   "id": "99c4cc27-e4de-4449-bc83-be02b0004a2d",
   "metadata": {},
   "source": [
    "1. Bulleted list  \n",
    "* Thing 1  \n",
    "* Thing 2  \n",
    "* Thing 3  \n",
    "2. Strike through line  \n",
    "~~some words~~  \n",
    "3. Hyperlink  \n",
    "[link to my github](https://github.com/sspalding)"
   ]
  },
  {
   "cell_type": "code",
   "execution_count": null,
   "id": "e7025c84-61fb-4e20-8c19-aff8437e2b36",
   "metadata": {},
   "outputs": [],
   "source": []
  }
 ],
 "metadata": {
  "kernelspec": {
   "display_name": "Python 3 (ipykernel)",
   "language": "python",
   "name": "python3"
  },
  "language_info": {
   "codemirror_mode": {
    "name": "ipython",
    "version": 3
   },
   "file_extension": ".py",
   "mimetype": "text/x-python",
   "name": "python",
   "nbconvert_exporter": "python",
   "pygments_lexer": "ipython3",
   "version": "3.9.12"
  }
 },
 "nbformat": 4,
 "nbformat_minor": 5
}
