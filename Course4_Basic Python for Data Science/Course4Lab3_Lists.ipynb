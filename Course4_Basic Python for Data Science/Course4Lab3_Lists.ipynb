{
 "cells": [
  {
   "cell_type": "markdown",
   "id": "53575a1b-eb04-4333-8bd9-dcd100b60d11",
   "metadata": {},
   "source": [
    "# Course 4  Lab 3 - Lists in Python"
   ]
  },
  {
   "cell_type": "code",
   "execution_count": 1,
   "id": "a0799d90-f27a-41d7-b632-59abfa7fe17a",
   "metadata": {},
   "outputs": [
    {
     "data": {
      "text/plain": [
       "['Michael Jackson', 10.1, 1982]"
      ]
     },
     "execution_count": 1,
     "metadata": {},
     "output_type": "execute_result"
    }
   ],
   "source": [
    "# Create a list\n",
    "L = [\"Michael Jackson\", 10.1, 1982]\n",
    "L"
   ]
  },
  {
   "cell_type": "markdown",
   "id": "e217bbd0-3085-47b0-9ff6-244ec2aa94b9",
   "metadata": {},
   "source": [
    "### Indexing"
   ]
  },
  {
   "cell_type": "code",
   "execution_count": 2,
   "id": "cfc2e35b-b701-4d63-b914-75017c8c78b2",
   "metadata": {},
   "outputs": [
    {
     "data": {
      "text/plain": [
       "'Michael Jackson'"
      ]
     },
     "execution_count": 2,
     "metadata": {},
     "output_type": "execute_result"
    }
   ],
   "source": [
    "# we can use indexing\n",
    "L[0]"
   ]
  },
  {
   "cell_type": "code",
   "execution_count": 3,
   "id": "725f5b44-9b78-4a15-ac5a-efee55504db2",
   "metadata": {},
   "outputs": [
    {
     "data": {
      "text/plain": [
       "1982"
      ]
     },
     "execution_count": 3,
     "metadata": {},
     "output_type": "execute_result"
    }
   ],
   "source": [
    "# we can also use negative indexing\n",
    "L[-1]"
   ]
  },
  {
   "cell_type": "markdown",
   "id": "7e0c6e8a-01fc-4005-9441-26f77fb5df17",
   "metadata": {},
   "source": [
    "### Slicing"
   ]
  },
  {
   "cell_type": "code",
   "execution_count": 4,
   "id": "2abfd11c-5b99-4ca4-87b2-13346592fab5",
   "metadata": {},
   "outputs": [
    {
     "data": {
      "text/plain": [
       "['MJ', 1]"
      ]
     },
     "execution_count": 4,
     "metadata": {},
     "output_type": "execute_result"
    }
   ],
   "source": [
    "# Slicing lists\n",
    "L = ['michael jackson',10.1,1982,'MJ',1]\n",
    "L[3:5]"
   ]
  },
  {
   "cell_type": "markdown",
   "id": "68323755-e620-4fa6-94e0-55a2da49e70c",
   "metadata": {},
   "source": [
    "### Extend"
   ]
  },
  {
   "cell_type": "code",
   "execution_count": 9,
   "id": "f18d2e48-43de-4fbb-81cd-47da75021fb2",
   "metadata": {},
   "outputs": [
    {
     "data": {
      "text/plain": [
       "['Mic', 10.2, 'pop', 10]"
      ]
     },
     "execution_count": 9,
     "metadata": {},
     "output_type": "execute_result"
    }
   ],
   "source": [
    "# use extend to add new elements to the list\n",
    "L = ['Mic', 10.2]\n",
    "L.extend(['pop',10])\n",
    "L"
   ]
  },
  {
   "cell_type": "markdown",
   "id": "d801b84d-27e2-4013-a331-2b0e261b84db",
   "metadata": {},
   "source": [
    "### Append"
   ]
  },
  {
   "cell_type": "code",
   "execution_count": 7,
   "id": "50e8cc32-b96a-44e7-86f5-4991f60a3003",
   "metadata": {},
   "outputs": [
    {
     "data": {
      "text/plain": [
       "['Mic', 10.2, ['pop', 10]]"
      ]
     },
     "execution_count": 7,
     "metadata": {},
     "output_type": "execute_result"
    }
   ],
   "source": [
    "# use append to add only one element to a list\n",
    "L = ['Mic', 10.2]\n",
    "L.append(['pop',10])\n",
    "L"
   ]
  },
  {
   "cell_type": "markdown",
   "id": "11651a1e-e347-43b1-98d9-604f0dfa200f",
   "metadata": {},
   "source": [
    "### Lists are Mutable"
   ]
  },
  {
   "cell_type": "code",
   "execution_count": 10,
   "id": "0f8b0f45-1e78-4389-bd17-47e3b49ca22b",
   "metadata": {},
   "outputs": [
    {
     "data": {
      "text/plain": [
       "['bunny', 55, 2222223, 'green']"
      ]
     },
     "execution_count": 10,
     "metadata": {},
     "output_type": "execute_result"
    }
   ],
   "source": [
    "# Changing elements in a list based on index\n",
    "A = ['panda',55,2222223,'green']\n",
    "A[0] = 'bunny'\n",
    "A"
   ]
  },
  {
   "cell_type": "code",
   "execution_count": 11,
   "id": "c4c13ef5-ffe8-4e98-bf8b-b56493333d20",
   "metadata": {},
   "outputs": [
    {
     "data": {
      "text/plain": [
       "[55, 2222223, 'green']"
      ]
     },
     "execution_count": 11,
     "metadata": {},
     "output_type": "execute_result"
    }
   ],
   "source": [
    "# deleting elements based on index\n",
    "del(A[0])\n",
    "A"
   ]
  },
  {
   "cell_type": "markdown",
   "id": "9978cab1-80d9-44c4-8785-11c986d609a7",
   "metadata": {},
   "source": [
    "### Converting a string to a list"
   ]
  },
  {
   "cell_type": "code",
   "execution_count": 13,
   "id": "d34c4aac-f16f-465d-82f2-f07041582a60",
   "metadata": {},
   "outputs": [
    {
     "data": {
      "text/plain": [
       "['hard', 'rock']"
      ]
     },
     "execution_count": 13,
     "metadata": {},
     "output_type": "execute_result"
    }
   ],
   "source": [
    "# based on spaces\n",
    "'hard rock'.split()"
   ]
  },
  {
   "cell_type": "code",
   "execution_count": 14,
   "id": "d63b6ba4-b883-42bf-83ff-338c91905aa2",
   "metadata": {},
   "outputs": [
    {
     "data": {
      "text/plain": [
       "['A', 'B', 'C', 'D']"
      ]
     },
     "execution_count": 14,
     "metadata": {},
     "output_type": "execute_result"
    }
   ],
   "source": [
    "# based on a delimiter\n",
    "'A,B,C,D'.split(',')"
   ]
  },
  {
   "cell_type": "markdown",
   "id": "434b10ba-3035-4c4c-aeb6-522b85383e4b",
   "metadata": {},
   "source": [
    "### Copy and Clone list"
   ]
  },
  {
   "cell_type": "code",
   "execution_count": 15,
   "id": "31b1e828-124f-4374-a8cb-4f234457600a",
   "metadata": {},
   "outputs": [
    {
     "name": "stdout",
     "output_type": "stream",
     "text": [
      "C:  [12, 23, 234, 'fellow', 'rig', 56]\n",
      "B:  [12, 23, 234, 'fellow', 'rig', 56]\n"
     ]
    }
   ],
   "source": [
    "# Copy (by reference)\n",
    "C = [12,23,234,'fellow', 'rig',56]\n",
    "B = C\n",
    "print('C: ', C)\n",
    "print('B: ', B)"
   ]
  },
  {
   "cell_type": "code",
   "execution_count": 17,
   "id": "df907286-0497-44cc-af04-5f06fde6e3b3",
   "metadata": {},
   "outputs": [
    {
     "name": "stdout",
     "output_type": "stream",
     "text": [
      "C:  ['red', 23, 234, 'fellow', 'rig', 56]\n",
      "B:  ['red', 23, 234, 'fellow', 'rig', 56]\n"
     ]
    }
   ],
   "source": [
    "# Changing one list changes the other because they are referencing the same object\n",
    "C[0]='red'\n",
    "print('C: ', C)\n",
    "print('B: ', B)"
   ]
  },
  {
   "cell_type": "code",
   "execution_count": 18,
   "id": "97fee322-151d-4098-878b-a3d1ff0c8b06",
   "metadata": {},
   "outputs": [
    {
     "data": {
      "text/plain": [
       "['red', 23, 234, 'fellow', 'rig', 56]"
      ]
     },
     "execution_count": 18,
     "metadata": {},
     "output_type": "execute_result"
    }
   ],
   "source": [
    "# clone (by value)\n",
    "D = C[:]\n",
    "D"
   ]
  },
  {
   "cell_type": "code",
   "execution_count": 19,
   "id": "cf036392-e0f0-45f7-9765-62b8037a26ae",
   "metadata": {},
   "outputs": [
    {
     "name": "stdout",
     "output_type": "stream",
     "text": [
      "C:  ['bunny', 23, 234, 'fellow', 'rig', 56]\n",
      "B:  ['bunny', 23, 234, 'fellow', 'rig', 56]\n",
      "D:  ['red', 23, 234, 'fellow', 'rig', 56]\n"
     ]
    }
   ],
   "source": [
    "# changing C will still change B but will not affect D\n",
    "C[0]='bunny'\n",
    "print('C: ', C)\n",
    "print('B: ', B)\n",
    "print('D: ', D)"
   ]
  },
  {
   "cell_type": "markdown",
   "id": "3e4157c8-762a-4062-8019-7a3232efc6d7",
   "metadata": {},
   "source": [
    "### Practice"
   ]
  },
  {
   "cell_type": "code",
   "execution_count": 22,
   "id": "ba72c225-7081-42d1-826f-0fa64766aec0",
   "metadata": {},
   "outputs": [
    {
     "data": {
      "text/plain": [
       "[1, 'hello', [1, 2, 3], 'True']"
      ]
     },
     "execution_count": 22,
     "metadata": {},
     "output_type": "execute_result"
    }
   ],
   "source": [
    "#Create a list a_list, with the following elements 1, hello, [1,2,3] and True.\n",
    "a_list = [1,'hello', [1,2,3],\"True\"]\n",
    "a_list"
   ]
  },
  {
   "cell_type": "code",
   "execution_count": 23,
   "id": "87fe6f7a-d9eb-4996-8942-c5566f9fe397",
   "metadata": {},
   "outputs": [
    {
     "data": {
      "text/plain": [
       "'hello'"
      ]
     },
     "execution_count": 23,
     "metadata": {},
     "output_type": "execute_result"
    }
   ],
   "source": [
    "# find the value stored in index 1 of a_list\n",
    "a_list[1]"
   ]
  },
  {
   "cell_type": "code",
   "execution_count": 24,
   "id": "a6720b95-8b5c-44c3-919e-518eb32050de",
   "metadata": {},
   "outputs": [
    {
     "data": {
      "text/plain": [
       "['hello', [1, 2, 3], 'True']"
      ]
     },
     "execution_count": 24,
     "metadata": {},
     "output_type": "execute_result"
    }
   ],
   "source": [
    "#retrieve the elements stored in index 1,2,3 of a_list\n",
    "a_list[1:4]"
   ]
  },
  {
   "cell_type": "code",
   "execution_count": 25,
   "id": "7cffdedb-25e8-496c-bcf8-591c216c245b",
   "metadata": {},
   "outputs": [
    {
     "data": {
      "text/plain": [
       "[1, 'a', 2, 1, 'd']"
      ]
     },
     "execution_count": 25,
     "metadata": {},
     "output_type": "execute_result"
    }
   ],
   "source": [
    "#Concatenate the following lists A = [1, 'a'] and B = [2, 1, 'd']:\n",
    "A = [1,'a']\n",
    "B = [2,1,'d']\n",
    "A+B"
   ]
  },
  {
   "cell_type": "code",
   "execution_count": null,
   "id": "efe3f4c5-eca7-4653-a586-523af4ef929b",
   "metadata": {},
   "outputs": [],
   "source": []
  }
 ],
 "metadata": {
  "kernelspec": {
   "display_name": "Python 3 (ipykernel)",
   "language": "python",
   "name": "python3"
  },
  "language_info": {
   "codemirror_mode": {
    "name": "ipython",
    "version": 3
   },
   "file_extension": ".py",
   "mimetype": "text/x-python",
   "name": "python",
   "nbconvert_exporter": "python",
   "pygments_lexer": "ipython3",
   "version": "3.9.12"
  }
 },
 "nbformat": 4,
 "nbformat_minor": 5
}
