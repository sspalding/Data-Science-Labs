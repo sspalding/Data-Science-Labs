{
 "cells": [
  {
   "cell_type": "markdown",
   "id": "ed6a5607-9ac5-4640-91cb-feaa9581912f",
   "metadata": {},
   "source": [
    "# Course 4 Lab 7 - Conditions in Python"
   ]
  },
  {
   "cell_type": "markdown",
   "id": "9733ffed-a28a-4844-85b8-09d976766e9f",
   "metadata": {},
   "source": [
    "### Comparison Operators"
   ]
  },
  {
   "cell_type": "code",
   "execution_count": 1,
   "id": "69fbccde",
   "metadata": {},
   "outputs": [],
   "source": [
    "import warnings\n",
    "warnings.filterwarnings(\"ignore\", category=DeprecationWarning)\n",
    "warnings.filterwarnings(\"ignore\", category=FutureWarning)"
   ]
  },
  {
   "cell_type": "code",
   "execution_count": 2,
   "id": "8a9ee053-55ee-445d-bba0-8c54fb105d94",
   "metadata": {},
   "outputs": [
    {
     "data": {
      "text/plain": [
       "False"
      ]
     },
     "execution_count": 2,
     "metadata": {},
     "output_type": "execute_result"
    }
   ],
   "source": [
    "# condition equal\n",
    "a = 5\n",
    "a==6"
   ]
  },
  {
   "cell_type": "code",
   "execution_count": 3,
   "id": "4a289c4a-637f-4343-a084-fb074dce06c3",
   "metadata": {},
   "outputs": [
    {
     "data": {
      "text/plain": [
       "False"
      ]
     },
     "execution_count": 3,
     "metadata": {},
     "output_type": "execute_result"
    }
   ],
   "source": [
    "# greater than sign\n",
    "i = 2\n",
    "i>5"
   ]
  },
  {
   "cell_type": "code",
   "execution_count": 4,
   "id": "dd43733b-620b-40b2-84dd-7b1e3ffb3d3e",
   "metadata": {},
   "outputs": [
    {
     "data": {
      "text/plain": [
       "True"
      ]
     },
     "execution_count": 4,
     "metadata": {},
     "output_type": "execute_result"
    }
   ],
   "source": [
    "# inequality sign\n",
    "j = 7\n",
    "j!=3"
   ]
  },
  {
   "cell_type": "code",
   "execution_count": 5,
   "id": "5784dae0-95b7-4cc9-a8f1-bccf311f5ac6",
   "metadata": {},
   "outputs": [
    {
     "data": {
      "text/plain": [
       "False"
      ]
     },
     "execution_count": 5,
     "metadata": {},
     "output_type": "execute_result"
    }
   ],
   "source": [
    "# equality with strings\n",
    "'ACDC' == 'Micheal Jackson'"
   ]
  },
  {
   "cell_type": "code",
   "execution_count": 6,
   "id": "fb6b5e67-5c5a-44d0-a694-e4de4ceb536b",
   "metadata": {},
   "outputs": [
    {
     "data": {
      "text/plain": [
       "True"
      ]
     },
     "execution_count": 6,
     "metadata": {},
     "output_type": "execute_result"
    }
   ],
   "source": [
    "# compare charachters\n",
    "'B'>'A'"
   ]
  },
  {
   "cell_type": "code",
   "execution_count": 7,
   "id": "07936324-8772-4a9a-8ed3-b2c45b21d4fb",
   "metadata": {},
   "outputs": [
    {
     "data": {
      "text/plain": [
       "True"
      ]
     },
     "execution_count": 7,
     "metadata": {},
     "output_type": "execute_result"
    }
   ],
   "source": [
    "'BA'>'AB'"
   ]
  },
  {
   "cell_type": "markdown",
   "id": "583ee8e6-28e3-42b3-9e76-67c6818d83e5",
   "metadata": {},
   "source": [
    "### Branching"
   ]
  },
  {
   "cell_type": "code",
   "execution_count": 8,
   "id": "10a3d035-19b5-4202-836e-b1925f87f547",
   "metadata": {},
   "outputs": [
    {
     "name": "stdout",
     "output_type": "stream",
     "text": [
      "enter\n",
      "move on\n"
     ]
    }
   ],
   "source": [
    "# if statement \n",
    "age = 23\n",
    "if (age>18):\n",
    "    print('enter')\n",
    "print('move on')"
   ]
  },
  {
   "cell_type": "code",
   "execution_count": 9,
   "id": "9dce2a35-c27f-4d6c-a32e-b7240bc0c44a",
   "metadata": {},
   "outputs": [
    {
     "name": "stdout",
     "output_type": "stream",
     "text": [
      "go see young gravy\n",
      "move on\n"
     ]
    }
   ],
   "source": [
    "# else statement\n",
    "age = 17\n",
    "if (age>18):\n",
    "    print('enter')\n",
    "else:\n",
    "    print('go see young gravy')\n",
    "print('move on')"
   ]
  },
  {
   "cell_type": "code",
   "execution_count": 10,
   "id": "c8df3881-fb70-4d64-a4ad-2024df9c65cf",
   "metadata": {},
   "outputs": [
    {
     "name": "stdout",
     "output_type": "stream",
     "text": [
      "go see lizzo\n",
      "move on\n"
     ]
    }
   ],
   "source": [
    "# elif statment\n",
    "age =18\n",
    "if (age>18):\n",
    "    print('enter')\n",
    "elif (age ==18):\n",
    "    print('go see lizzo')\n",
    "else:\n",
    "    print('go see young gravy')\n",
    "print('move on')"
   ]
  },
  {
   "cell_type": "code",
   "execution_count": 11,
   "id": "b98cb74d-2ea5-4699-a077-38a3d3f601a1",
   "metadata": {},
   "outputs": [
    {
     "name": "stdout",
     "output_type": "stream",
     "text": [
      "Album year is greater than 1980\n",
      "goodbye\n"
     ]
    }
   ],
   "source": [
    "# condition statement example\n",
    "album_year = 1983\n",
    "if album_year > 1980:\n",
    "    print(\"Album year is greater than 1980\")\n",
    "else:\n",
    "    print(\"less than 1980\")\n",
    "print('goodbye')"
   ]
  },
  {
   "cell_type": "markdown",
   "id": "63c7fb9c-31ee-46cc-b560-8a299f18db6c",
   "metadata": {},
   "source": [
    "### Logical Operators"
   ]
  },
  {
   "cell_type": "code",
   "execution_count": 12,
   "id": "96574213-27b8-4767-9f11-3028b605bfbd",
   "metadata": {},
   "outputs": [
    {
     "name": "stdout",
     "output_type": "stream",
     "text": [
      "Album year between 1980 and 1989\n",
      "goodbye\n"
     ]
    }
   ],
   "source": [
    "# and example\n",
    "album_year = 1980\n",
    "if(album_year > 1979) and (album_year < 1990):\n",
    "    print (\"Album year between 1980 and 1989\")\n",
    "print('goodbye')"
   ]
  },
  {
   "cell_type": "code",
   "execution_count": 13,
   "id": "b73f8dce-255a-428f-879f-50eedc7c1cb0",
   "metadata": {},
   "outputs": [
    {
     "name": "stdout",
     "output_type": "stream",
     "text": [
      "Album was not made in the 80s\n",
      "goodbye\n"
     ]
    }
   ],
   "source": [
    "# or example\n",
    "album_year = 1990\n",
    "if(album_year < 1980) or (album_year >1989):\n",
    "    print (\"Album was not made in the 80s\")\n",
    "else:\n",
    "    print('the album was made in the 80s')\n",
    "print('goodbye')"
   ]
  },
  {
   "cell_type": "code",
   "execution_count": 14,
   "id": "38b13f30-8ccd-4fa3-91ca-c076d9dbe82b",
   "metadata": {},
   "outputs": [
    {
     "name": "stdout",
     "output_type": "stream",
     "text": [
      "album year is not 1984\n"
     ]
    }
   ],
   "source": [
    "# not statement example\n",
    "album_year = 1983\n",
    "if not(album_year == 1984):\n",
    "    print('album year is not 1984')"
   ]
  },
  {
   "cell_type": "markdown",
   "id": "76a4e7d8-8afa-4c71-b702-f4266f8c1d29",
   "metadata": {},
   "source": [
    "### Practice"
   ]
  },
  {
   "cell_type": "code",
   "execution_count": 15,
   "id": "c91bfd6d-ae3d-4953-96e1-9f913933344a",
   "metadata": {},
   "outputs": [
    {
     "name": "stdout",
     "output_type": "stream",
     "text": [
      "This album is amazing!\n"
     ]
    }
   ],
   "source": [
    "# Write an if statement to determine if an album had a rating greater than 8. \n",
    "# Test it using the rating for the album “Back in Black” that had a rating of 8.5. \n",
    "# If the statement is true print \"This album is Amazing!\"\n",
    "Album_rateing = 8.5\n",
    "if (Album_rateing>8):\n",
    "    print('This album is amazing!')"
   ]
  },
  {
   "cell_type": "code",
   "execution_count": 16,
   "id": "ef6fffe7-e701-4970-b17f-9d2fb742aebf",
   "metadata": {},
   "outputs": [
    {
     "name": "stdout",
     "output_type": "stream",
     "text": [
      "this album is amazing\n"
     ]
    }
   ],
   "source": [
    "# Write an if-else statement that performs the following. \n",
    "# If the rating is larger then eight print “this album is amazing”. \n",
    "# If the rating is less than or equal to 8 print “this album is ok”.\n",
    "albumRate = 8.5\n",
    "if (albumRate > 8):\n",
    "    print('this album is amazing')\n",
    "else:\n",
    "    print('this album is okay')"
   ]
  },
  {
   "cell_type": "code",
   "execution_count": 17,
   "id": "7bec5d3e-7cc4-4ec9-ab6f-b71693a65d67",
   "metadata": {},
   "outputs": [
    {
     "name": "stdout",
     "output_type": "stream",
     "text": [
      "the album came out in 1991 or 1993\n"
     ]
    }
   ],
   "source": [
    "# Write an if statement to determine if an album came out before 1980 or in the years: 1991 or 1993. \n",
    "# If the condition is true print out the year the album came out.\n",
    "albumYear = 1993\n",
    "if (albumYear < 1980):\n",
    "    print('the album came out before 1980')\n",
    "elif (albumYear == 1991) or (albumYear == 1993):\n",
    "    print('the album came out in 1991 or 1993')\n"
   ]
  },
  {
   "cell_type": "code",
   "execution_count": null,
   "id": "0341043a-d498-4a70-90f9-367237ac74ec",
   "metadata": {},
   "outputs": [],
   "source": []
  }
 ],
 "metadata": {
  "kernelspec": {
   "display_name": "Python 3.10.1 64-bit",
   "language": "python",
   "name": "python3"
  },
  "language_info": {
   "codemirror_mode": {
    "name": "ipython",
    "version": 3
   },
   "file_extension": ".py",
   "mimetype": "text/x-python",
   "name": "python",
   "nbconvert_exporter": "python",
   "pygments_lexer": "ipython3",
   "version": "3.10.1"
  },
  "vscode": {
   "interpreter": {
    "hash": "d404347084406b8c6d005244449b7dd5f725b5df89987d39dd27b81ada4d10f3"
   }
  }
 },
 "nbformat": 4,
 "nbformat_minor": 5
}
