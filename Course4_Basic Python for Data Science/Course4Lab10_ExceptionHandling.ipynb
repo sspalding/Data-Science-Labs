{
 "cells": [
  {
   "cell_type": "markdown",
   "id": "3c060579-2f46-472a-b147-338fec8f8b3e",
   "metadata": {},
   "source": [
    "# Course 4 Lab 10 - Exception Handling"
   ]
  },
  {
   "cell_type": "code",
   "execution_count": 1,
   "id": "3b3a92f6",
   "metadata": {},
   "outputs": [],
   "source": [
    "import warnings\n",
    "warnings.filterwarnings(\"ignore\", category=DeprecationWarning)\n",
    "warnings.filterwarnings(\"ignore\", category=FutureWarning)"
   ]
  },
  {
   "cell_type": "code",
   "execution_count": 2,
   "id": "1ba68e04-bf9c-4445-91a3-c1a6b2f9bac1",
   "metadata": {},
   "outputs": [
    {
     "name": "stdout",
     "output_type": "stream",
     "text": [
      "Success a =  0.5\n"
     ]
    }
   ],
   "source": [
    "# Try Except\n",
    "a = 1\n",
    "\n",
    "try:\n",
    "    b = int(input('please enter a number to divide a'))\n",
    "    a = a/b\n",
    "    print( 'Success a = ', a)\n",
    "except:\n",
    "    print('There was an error')"
   ]
  },
  {
   "cell_type": "code",
   "execution_count": 3,
   "id": "86594c73-c976-40c2-a09c-4ad3551d4d22",
   "metadata": {},
   "outputs": [
    {
     "name": "stdout",
     "output_type": "stream",
     "text": [
      "success a =  0.25\n"
     ]
    }
   ],
   "source": [
    "# more specific try except example\n",
    "a = 1\n",
    "\n",
    "try:\n",
    "    b = int(input('please eneter a number to divide a'))\n",
    "    a = a/b\n",
    "    print('success a = ', a)\n",
    "except ZeroDivisionError:\n",
    "    print('the number you provided cant divide 1 because it is 0')\n",
    "except ValueError:\n",
    "    print('you did not provide a number')\n",
    "except:\n",
    "    print('something went wrong')"
   ]
  },
  {
   "cell_type": "code",
   "execution_count": 4,
   "id": "275c288c-ad2e-431a-90d8-5522c44d219d",
   "metadata": {},
   "outputs": [
    {
     "name": "stdout",
     "output_type": "stream",
     "text": [
      "success a =  0.3333333333333333\n",
      "processing complete\n"
     ]
    }
   ],
   "source": [
    "# except else finally example\n",
    "a = 1\n",
    "\n",
    "try:\n",
    "    b = int(input('please eneter a number to divide a'))\n",
    "    a = a/b\n",
    "except ZeroDivisionError:\n",
    "    print('the number you provided cant divide 1 because it is 0')\n",
    "except ValueError:\n",
    "    print('you did not provide a number')\n",
    "except:\n",
    "    print('something went wrong')\n",
    "else:\n",
    "    print('success a = ',a)\n",
    "finally: \n",
    "    print('processing complete')"
   ]
  },
  {
   "cell_type": "code",
   "execution_count": null,
   "id": "8e626aba-c095-4cac-b463-fa70cd28aa37",
   "metadata": {},
   "outputs": [],
   "source": []
  }
 ],
 "metadata": {
  "kernelspec": {
   "display_name": "Python 3.10.1 64-bit",
   "language": "python",
   "name": "python3"
  },
  "language_info": {
   "codemirror_mode": {
    "name": "ipython",
    "version": 3
   },
   "file_extension": ".py",
   "mimetype": "text/x-python",
   "name": "python",
   "nbconvert_exporter": "python",
   "pygments_lexer": "ipython3",
   "version": "3.10.1"
  },
  "vscode": {
   "interpreter": {
    "hash": "d404347084406b8c6d005244449b7dd5f725b5df89987d39dd27b81ada4d10f3"
   }
  }
 },
 "nbformat": 4,
 "nbformat_minor": 5
}
