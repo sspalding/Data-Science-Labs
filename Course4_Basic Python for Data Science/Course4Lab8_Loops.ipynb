{
 "cells": [
  {
   "cell_type": "markdown",
   "id": "3ee75e3b-ffe8-4286-9188-8a807bc954d3",
   "metadata": {},
   "source": [
    "# Course 4 Lab 8 - Loops in Python"
   ]
  },
  {
   "cell_type": "markdown",
   "id": "d4b8ee38-0886-48ca-9523-ae5e192ed1b6",
   "metadata": {},
   "source": [
    "### Range"
   ]
  },
  {
   "cell_type": "code",
   "execution_count": 1,
   "id": "2baae5ea",
   "metadata": {},
   "outputs": [],
   "source": [
    "import warnings\n",
    "warnings.filterwarnings(\"ignore\", category=DeprecationWarning)\n",
    "warnings.filterwarnings(\"ignore\", category=FutureWarning)"
   ]
  },
  {
   "cell_type": "code",
   "execution_count": 2,
   "id": "59eae07a-6dcb-41a1-ae34-3527e6a3c49e",
   "metadata": {},
   "outputs": [
    {
     "data": {
      "text/plain": [
       "range(0, 3)"
      ]
     },
     "execution_count": 2,
     "metadata": {},
     "output_type": "execute_result"
    }
   ],
   "source": [
    "# use the range object\n",
    "range (3)"
   ]
  },
  {
   "cell_type": "markdown",
   "id": "83ab55b9-04e0-4e4e-86df-2e5f2880d56e",
   "metadata": {},
   "source": [
    "### For loops"
   ]
  },
  {
   "cell_type": "code",
   "execution_count": 3,
   "id": "c6419c8d-2b97-44d1-8b33-9c5d4c083dc4",
   "metadata": {},
   "outputs": [
    {
     "name": "stdout",
     "output_type": "stream",
     "text": [
      "1982\n",
      "1980\n",
      "1973\n"
     ]
    }
   ],
   "source": [
    "# for loop\n",
    "dates = [1982,1980,1973]\n",
    "N = len(dates)\n",
    "for i in range(N):\n",
    "    print(dates[i])"
   ]
  },
  {
   "cell_type": "code",
   "execution_count": 4,
   "id": "4c0ecc96-2f88-4743-b3e9-e05b50ed4810",
   "metadata": {},
   "outputs": [
    {
     "name": "stdout",
     "output_type": "stream",
     "text": [
      "before square  0  is  red\n",
      "after square  0  is  white\n",
      "before square  1  is  yellow\n",
      "after square  1  is  white\n",
      "before square  2  is  blue\n",
      "after square  2  is  white\n",
      "before square  3  is  purple\n",
      "after square  3  is  white\n",
      "before square  4  is  green\n",
      "after square  4  is  white\n"
     ]
    }
   ],
   "source": [
    "# use the loop to change the elements in a list\n",
    "squares = ['red', 'yellow', 'blue', 'purple', 'green']\n",
    "for i in range(0,5):\n",
    "    print('before square ', i,' is ', squares[i])\n",
    "    squares[i]='white'\n",
    "    print('after square ', i,' is ', squares[i])"
   ]
  },
  {
   "cell_type": "markdown",
   "id": "42440e84-5f1a-4df8-a07f-b96f2e16d51d",
   "metadata": {},
   "source": [
    "### While loops"
   ]
  },
  {
   "cell_type": "code",
   "execution_count": 5,
   "id": "7b62460e-641e-4488-acb3-de24dc773ff8",
   "metadata": {},
   "outputs": [
    {
     "name": "stdout",
     "output_type": "stream",
     "text": [
      "1982\n",
      "1980\n",
      "it took  2  repitions to get out to the loop\n"
     ]
    }
   ],
   "source": [
    "dates = [1982,1980,1973,2000]\n",
    "i=0\n",
    "year = dates[0]\n",
    "while(year != 1973):\n",
    "    print(year)\n",
    "    i=i+1\n",
    "    year = dates[i]\n",
    "print('it took ', i, ' repitions to get out to the loop')"
   ]
  },
  {
   "cell_type": "markdown",
   "id": "5f5711e2-c86e-410e-ba4f-89e6a457c344",
   "metadata": {},
   "source": [
    "### Practice"
   ]
  },
  {
   "cell_type": "code",
   "execution_count": 6,
   "id": "9e7f4858-d821-4a76-b3c0-37436f072921",
   "metadata": {},
   "outputs": [
    {
     "name": "stdout",
     "output_type": "stream",
     "text": [
      "-4\n",
      "-3\n",
      "-2\n",
      "-1\n",
      "0\n",
      "1\n",
      "2\n",
      "3\n",
      "4\n"
     ]
    }
   ],
   "source": [
    "# Write a for loop the prints out all the element between -5 and 5 using the range function.\n",
    "for i in range(-4,5):\n",
    "    print(i)"
   ]
  },
  {
   "cell_type": "code",
   "execution_count": 7,
   "id": "6dfa0962-d33c-47b4-8a50-c9edd60ec105",
   "metadata": {},
   "outputs": [
    {
     "name": "stdout",
     "output_type": "stream",
     "text": [
      "rock\n",
      "R&B\n",
      "Soundtrack\n",
      "R&B\n",
      "soul\n",
      "pop\n"
     ]
    }
   ],
   "source": [
    "# Print the elements of the following list: Genres=[ 'rock', 'R&B', 'Soundtrack', 'R&B', 'soul', 'pop'] \n",
    "Genres = [ 'rock', 'R&B', 'Soundtrack', 'R&B', 'soul', 'pop'] \n",
    "N = len(Genres)\n",
    "for i in range(N):\n",
    "    print(Genres[i])"
   ]
  },
  {
   "cell_type": "code",
   "execution_count": 8,
   "id": "a8f8179f-beca-4508-89d1-f1502886c936",
   "metadata": {},
   "outputs": [
    {
     "name": "stdout",
     "output_type": "stream",
     "text": [
      "red\n",
      "yellow\n",
      "green\n",
      "purple\n",
      "blue\n"
     ]
    }
   ],
   "source": [
    "# Write a for loop that prints out the following list: squares=['red', 'yellow', 'green', 'purple', 'blue']\n",
    "squares=['red', 'yellow', 'green', 'purple', 'blue']\n",
    "for square in squares:\n",
    "    print(square)"
   ]
  },
  {
   "cell_type": "code",
   "execution_count": 9,
   "id": "29184313-e86f-4be3-8423-20722de228da",
   "metadata": {},
   "outputs": [
    {
     "name": "stdout",
     "output_type": "stream",
     "text": [
      "10\n",
      "9.5\n",
      "10\n",
      "8\n",
      "7.5\n"
     ]
    }
   ],
   "source": [
    "# Write a while loop to display the values of the Rating of an album playlist stored in the list PlayListRatings. \n",
    "# If the score is less than 6, exit the loop. \n",
    "# The list PlayListRatings is given by: PlayListRatings = [10, 9.5, 10, 8, 7.5, 5, 10, 10]\n",
    "PlayListRatings = [10, 9.5, 10, 8, 7.5, 5, 10, 10]\n",
    "i=0\n",
    "rating = PlayListRatings[0]\n",
    "while (i < len(PlayListRatings) and (rating >= 6)):\n",
    "       print(rating)\n",
    "       i = i+1\n",
    "       rating = PlayListRatings[i]"
   ]
  },
  {
   "cell_type": "code",
   "execution_count": 10,
   "id": "75057c75-d542-47ad-a820-caf7ccff07d2",
   "metadata": {},
   "outputs": [
    {
     "name": "stdout",
     "output_type": "stream",
     "text": [
      "['orange', 'orange']\n"
     ]
    }
   ],
   "source": [
    "# Write a while loop to copy the strings 'orange' of the list squares to the list new_squares. \n",
    "# Stop and exit the loop if the value on the list is not 'orange':\n",
    "squares = ['orange', 'orange', 'purple', 'blue ', 'orange']\n",
    "new_squares = []\n",
    "i=0\n",
    "while ((i < len(squares)) and (squares[i] == 'orange')):\n",
    "    new_squares.append(squares[i])\n",
    "    i=i+1\n",
    "print(new_squares)"
   ]
  },
  {
   "cell_type": "code",
   "execution_count": null,
   "id": "b830d4ad-dbdd-479b-8886-66d8343f54e9",
   "metadata": {},
   "outputs": [],
   "source": []
  }
 ],
 "metadata": {
  "kernelspec": {
   "display_name": "Python 3.10.1 64-bit",
   "language": "python",
   "name": "python3"
  },
  "language_info": {
   "codemirror_mode": {
    "name": "ipython",
    "version": 3
   },
   "file_extension": ".py",
   "mimetype": "text/x-python",
   "name": "python",
   "nbconvert_exporter": "python",
   "pygments_lexer": "ipython3",
   "version": "3.10.1"
  },
  "vscode": {
   "interpreter": {
    "hash": "d404347084406b8c6d005244449b7dd5f725b5df89987d39dd27b81ada4d10f3"
   }
  }
 },
 "nbformat": 4,
 "nbformat_minor": 5
}
