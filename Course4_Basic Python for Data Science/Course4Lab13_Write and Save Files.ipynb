{
 "cells": [
  {
   "cell_type": "markdown",
   "id": "5322b505-6ec4-465a-9980-d22bcf414e3c",
   "metadata": {},
   "source": [
    "# Course 4 Lab 13 - Write and Save Files in Python"
   ]
  },
  {
   "cell_type": "markdown",
   "id": "4b1c6e0b-36cd-4de6-95a9-83b01e827e19",
   "metadata": {},
   "source": [
    "### Writing a File"
   ]
  },
  {
   "cell_type": "code",
   "execution_count": 1,
   "id": "f8f7ade6-7b05-4993-a201-359042ef6d87",
   "metadata": {},
   "outputs": [],
   "source": [
    "# write line to file\n",
    "import warnings\n",
    "warnings.filterwarnings(\"ignore\", category=DeprecationWarning)\n",
    "warnings.filterwarnings(\"ignore\", category=FutureWarning)\n",
    "exmp2 = 'example2.txt'\n",
    "with open(exmp2, 'w') as writefile:\n",
    "    writefile.write('this is line A')"
   ]
  },
  {
   "cell_type": "code",
   "execution_count": 2,
   "id": "8177f1a6-fdf8-48c3-9cfa-72d8d8c18c82",
   "metadata": {},
   "outputs": [
    {
     "name": "stdout",
     "output_type": "stream",
     "text": [
      "this is line A\n"
     ]
    }
   ],
   "source": [
    "# read file\n",
    "with open(exmp2,'r') as testwritefile:\n",
    "    print(testwritefile.read())"
   ]
  },
  {
   "cell_type": "code",
   "execution_count": 3,
   "id": "f2ae0907-cfa1-4158-b2df-c4bd0598ce6f",
   "metadata": {},
   "outputs": [],
   "source": [
    "# write multiple lines to a file\n",
    "with open(exmp2, 'w') as writefile:\n",
    "    writefile.write('this is line A\\n')\n",
    "    writefile.write('this is line B\\n')"
   ]
  },
  {
   "cell_type": "code",
   "execution_count": 4,
   "id": "524579d2-e196-4dbb-80b2-02484c0e0265",
   "metadata": {},
   "outputs": [
    {
     "name": "stdout",
     "output_type": "stream",
     "text": [
      "this is line A\n",
      "this is line B\n",
      "\n"
     ]
    }
   ],
   "source": [
    "# read file\n",
    "with open(exmp2,'r') as testwritefile:\n",
    "    print(testwritefile.read())"
   ]
  },
  {
   "cell_type": "code",
   "execution_count": 5,
   "id": "a85056bb-b4c5-4501-9eca-87b1a6c67763",
   "metadata": {},
   "outputs": [
    {
     "data": {
      "text/plain": [
       "['line a\\n', 'line b\\n', 'line c\\n']"
      ]
     },
     "execution_count": 5,
     "metadata": {},
     "output_type": "execute_result"
    }
   ],
   "source": [
    "# sample list of text\n",
    "lines = ['line a\\n', 'line b\\n', 'line c\\n']\n",
    "lines"
   ]
  },
  {
   "cell_type": "code",
   "execution_count": 6,
   "id": "fe096a62-eb82-4c05-8eb6-f1f686b47431",
   "metadata": {},
   "outputs": [
    {
     "name": "stdout",
     "output_type": "stream",
     "text": [
      "line a\n",
      "\n",
      "line b\n",
      "\n",
      "line c\n",
      "\n"
     ]
    }
   ],
   "source": [
    "# write the strings in the list to text file\n",
    "with open('example2.txt','w') as writefile:\n",
    "    for line in lines:\n",
    "        print(line)\n",
    "        writefile.write(line)"
   ]
  },
  {
   "cell_type": "code",
   "execution_count": 7,
   "id": "77e91bda-03a2-4f71-b2cd-f36c257e448f",
   "metadata": {},
   "outputs": [
    {
     "name": "stdout",
     "output_type": "stream",
     "text": [
      "line a\n",
      "line b\n",
      "line c\n",
      "\n"
     ]
    }
   ],
   "source": [
    "# read file\n",
    "with open(exmp2,'r') as testwritefile:\n",
    "    print(testwritefile.read())"
   ]
  },
  {
   "cell_type": "markdown",
   "id": "e5f2b975-26fb-4f81-8557-9685831869d6",
   "metadata": {},
   "source": [
    "### Appending Files"
   ]
  },
  {
   "cell_type": "code",
   "execution_count": 8,
   "id": "5db32d4d-8db2-4c9f-94ce-1586f1d0ea53",
   "metadata": {},
   "outputs": [],
   "source": [
    "# write a new line to text file without creating a new file\n",
    "with open('example2.txt','a') as testwritefile:\n",
    "    testwritefile.write('line c\\n')\n",
    "    testwritefile.write('line d\\n')\n",
    "    testwritefile.write('line e\\n')"
   ]
  },
  {
   "cell_type": "code",
   "execution_count": 9,
   "id": "97639b0a-73ec-48b1-9f5d-a6e206764bf7",
   "metadata": {},
   "outputs": [
    {
     "name": "stdout",
     "output_type": "stream",
     "text": [
      "line a\n",
      "line b\n",
      "line c\n",
      "line c\n",
      "line d\n",
      "line e\n",
      "\n"
     ]
    }
   ],
   "source": [
    "# read file\n",
    "with open(exmp2,'r') as testwritefile:\n",
    "    print(testwritefile.read())"
   ]
  },
  {
   "cell_type": "markdown",
   "id": "07537d9f-a0a9-4a32-a862-6604cbff41ae",
   "metadata": {},
   "source": [
    "### Additional Modes  \n",
    "- r+ : reading and writing, cannot truncate the file\n",
    "- w+ : writing and reading, truncates the file\n",
    "- a+ : appending and reading, creates a new file if none exists"
   ]
  },
  {
   "cell_type": "code",
   "execution_count": 10,
   "id": "eed3edb0-298e-4fc6-b7b5-a46b913c19cc",
   "metadata": {},
   "outputs": [
    {
     "name": "stdout",
     "output_type": "stream",
     "text": [
      "initial locataion: 48\n",
      "read nothing\n",
      "\n",
      " New Location :0\n",
      "line a\n",
      "line b\n",
      "line c\n",
      "line c\n",
      "line d\n",
      "line e\n",
      "\n",
      "location after read: 48\n"
     ]
    }
   ],
   "source": [
    "# test out a+ mode\n",
    "with open('example2.txt', 'a+') as testwritefile:\n",
    "    print('initial locataion: {}'.format(testwritefile.tell()))\n",
    "    \n",
    "    data = testwritefile.read()\n",
    "    \n",
    "    if (not data): # an empty string returns false in python\n",
    "        print('read nothing')\n",
    "    else:\n",
    "        print(testwritefile.read())\n",
    "        \n",
    "    testwritefile.seek(0,0) # move 0 bytes from the beginning\n",
    "    \n",
    "    print('\\n New Location :{}'.format(testwritefile.tell()))\n",
    "    data = testwritefile.read()\n",
    "    if (not data):\n",
    "        print('read nothing')\n",
    "    else:\n",
    "        print(data)\n",
    "    \n",
    "    print('location after read: {}'.format(testwritefile.tell()))"
   ]
  },
  {
   "cell_type": "markdown",
   "id": "b7889080-7f11-4dd0-a6ba-8fe671521d9e",
   "metadata": {},
   "source": [
    "- opening the file in a is similar to openinf the txt file, moving your cursor to the very end and then adding new pieces of text\n",
    "- .tell() returns the current position in bytes\n",
    "- .seek(offset, from) chanfes the position by 'offset' bytes with respect to the fron"
   ]
  },
  {
   "cell_type": "code",
   "execution_count": 11,
   "id": "5807aa67-565a-406e-b972-b80e3c4e6513",
   "metadata": {},
   "outputs": [
    {
     "name": "stdout",
     "output_type": "stream",
     "text": [
      "Line 1\n",
      "Line 2\n",
      "Line 3\n",
      "finished\n",
      "\n"
     ]
    }
   ],
   "source": [
    "# using truncate\n",
    "with open('Example2.txt', 'r+') as testwritefile:\n",
    "    data = testwritefile.readlines()\n",
    "    testwritefile.seek(0,0) #write at beginning of file\n",
    "   \n",
    "    testwritefile.write(\"Line 1\" + \"\\n\")\n",
    "    testwritefile.write(\"Line 2\" + \"\\n\")\n",
    "    testwritefile.write(\"Line 3\" + \"\\n\")\n",
    "    testwritefile.write(\"finished\\n\")\n",
    "    #Uncomment the line below\n",
    "    testwritefile.truncate()\n",
    "    testwritefile.seek(0,0)\n",
    "    print(testwritefile.read())"
   ]
  },
  {
   "cell_type": "markdown",
   "id": "998e55d2-9baa-44b9-8a9c-fc886add302f",
   "metadata": {},
   "source": [
    "### Copy a file"
   ]
  },
  {
   "cell_type": "code",
   "execution_count": 12,
   "id": "e64e96e8-f737-48b7-a0a4-657267abf9be",
   "metadata": {},
   "outputs": [],
   "source": [
    "# copy one file to another\n",
    "with open('Example2.txt','r') as readfile:\n",
    "    with open('Example3.txt','w') as writefile:\n",
    "          for line in readfile:\n",
    "                writefile.write(line)"
   ]
  },
  {
   "cell_type": "code",
   "execution_count": 13,
   "id": "c7dcb1f6-f201-44a4-b8d1-d5b6f98d0165",
   "metadata": {},
   "outputs": [
    {
     "name": "stdout",
     "output_type": "stream",
     "text": [
      "Line 1\n",
      "Line 2\n",
      "Line 3\n",
      "finished\n",
      "\n"
     ]
    }
   ],
   "source": [
    "# Verify if the copy is successfully executed\n",
    "with open('Example3.txt','r') as testwritefile:\n",
    "    print(testwritefile.read())"
   ]
  },
  {
   "cell_type": "markdown",
   "id": "b81aa148-3aca-4ef5-8f38-b938ea8a1f94",
   "metadata": {},
   "source": [
    "### Practice"
   ]
  },
  {
   "cell_type": "code",
   "execution_count": 14,
   "id": "d8ebc9f2-7fa0-4fbb-888c-70c2f0e63808",
   "metadata": {},
   "outputs": [],
   "source": [
    "#Run this prior to starting the exercise\n",
    "from random import randint as rnd\n",
    "\n",
    "memReg = 'members.txt'\n",
    "exReg = 'inactive.txt'\n",
    "fee =('yes','no')\n",
    "\n",
    "def genFiles(current,old):\n",
    "    with open(current,'w+') as writefile: \n",
    "        writefile.write('Membership No  Date Joined  Active  \\n')\n",
    "        data = \"{:^13}  {:<11}  {:<6}\\n\"\n",
    "\n",
    "        for rowno in range(20):\n",
    "            date = str(rnd(2015,2020))+ '-' + str(rnd(1,12))+'-'+str(rnd(1,25))\n",
    "            writefile.write(data.format(rnd(10000,99999),date,fee[rnd(0,1)]))\n",
    "\n",
    "\n",
    "    with open(old,'w+') as writefile: \n",
    "        writefile.write('Membership No  Date Joined  Active  \\n')\n",
    "        data = \"{:^13}  {:<11}  {:<6}\\n\"\n",
    "        for rowno in range(3):\n",
    "            date = str(rnd(2015,2020))+ '-' + str(rnd(1,12))+'-'+str(rnd(1,25))\n",
    "            writefile.write(data.format(rnd(10000,99999),date,fee[1]))\n",
    "\n",
    "\n",
    "genFiles(memReg,exReg)"
   ]
  },
  {
   "cell_type": "code",
   "execution_count": 15,
   "id": "15592345-3321-4733-a262-e8174ea5d364",
   "metadata": {},
   "outputs": [
    {
     "name": "stdout",
     "output_type": "stream",
     "text": [
      "Active Members: \n",
      "\n",
      "\n",
      "Membership No  Date Joined  Active  \n",
      "    35008      2016-3-16    yes   \n",
      "    58683      2016-4-19    yes   \n",
      "    23298      2016-10-16   yes   \n",
      "    67563      2017-4-1     yes   \n",
      "    43118      2017-3-21    yes   \n",
      "    25934      2015-12-8    yes   \n",
      "    15616      2020-12-7    yes   \n",
      "\n",
      "Inactive Members: \n",
      "\n",
      "\n",
      "Membership No  Date Joined  Active  \n",
      "    89772      2019-12-22   no    \n",
      "    13498      2018-1-17    no    \n",
      "    47513      2020-2-16    no    \n",
      "    96703      2015-10-20   no    \n",
      "    97173      2019-3-16    no    \n",
      "    67441      2020-8-9     no    \n",
      "    62475      2019-9-10    no    \n",
      "    97507      2018-5-3     no    \n",
      "    71143      2020-6-23    no    \n",
      "    57902      2019-5-10    no    \n",
      "    76733      2015-11-3    no    \n",
      "    12318      2016-9-13    no    \n",
      "    85125      2019-10-20   no    \n",
      "    29998      2017-7-13    no    \n",
      "    39691      2016-1-22    no    \n",
      "    39246      2016-1-19    no    \n",
      "\n"
     ]
    }
   ],
   "source": [
    "'''\n",
    "The two arguments for this function are the files:\n",
    "    - currentMem: File containing list of current members\n",
    "    - exMem: File containing list of old members\n",
    "    \n",
    "    This function should remove all rows from currentMem containing 'no' \n",
    "    in the 'Active' column and appends them to exMem.\n",
    "    '''\n",
    "def cleanFiles(currentMem, exMem):\n",
    "    # Open the currentMem file as in r+ mode\n",
    "    with open(currentMem,'r+') as writeFile:\n",
    "        # Open the exMem file in a+ mode\n",
    "        with open(exMem, 'a+') as appendFile:\n",
    "            # Read each member in the currentMem (1 member per row) file into a list.\n",
    "            writeFile.seek(0)\n",
    "            members = writeFile.readlines()\n",
    "            \n",
    "            # Recall that the first line in the file is the header.\n",
    "            header = members[0]\n",
    "            members.pop(0)\n",
    "            \n",
    "            #iterate through the members and create a new list of the innactive members\n",
    "            inactive = [member for member in members if('no' in member)]\n",
    "            \n",
    "            # Go to the beginning of the currentMem file\n",
    "            writeFile.seek(0)\n",
    "            writeFile.write(header)\n",
    "            # Iterate through the members list. \n",
    "            for member in members:\n",
    "                # If a member is inactive, add them to exMem, otherwise write them into currentMem\n",
    "                if (member in inactive):\n",
    "                    appendFile.write(member)\n",
    "                else:\n",
    "                    writeFile.write(member)\n",
    "            writeFile.truncate()\n",
    "\n",
    "# The code below is to help you view the files.\n",
    "# Do not modify this code for this exercise.\n",
    "memReg = 'members.txt'\n",
    "exReg = 'inactive.txt'\n",
    "cleanFiles(memReg,exReg)\n",
    "\n",
    "\n",
    "headers = \"Membership No  Date Joined  Active  \\n\"\n",
    "with open(memReg,'r') as readFile:\n",
    "    print(\"Active Members: \\n\\n\")\n",
    "    print(readFile.read())\n",
    "    \n",
    "with open(exReg,'r') as readFile:\n",
    "    print(\"Inactive Members: \\n\\n\")\n",
    "    print(readFile.read())"
   ]
  },
  {
   "cell_type": "code",
   "execution_count": 16,
   "id": "c99d3d74-ae4d-4b62-9296-be0831c95068",
   "metadata": {},
   "outputs": [
    {
     "name": "stdout",
     "output_type": "stream",
     "text": [
      "Test Passed\n"
     ]
    }
   ],
   "source": [
    "# use this code to check changes\n",
    "def testMsg(passed):\n",
    "    if passed:\n",
    "       return 'Test Passed'\n",
    "    else :\n",
    "       return 'Test Failed'\n",
    "\n",
    "testWrite = \"testWrite.txt\"\n",
    "testAppend = \"testAppend.txt\" \n",
    "passed = True\n",
    "\n",
    "genFiles(testWrite,testAppend)\n",
    "\n",
    "with open(testWrite,'r') as file:\n",
    "    ogWrite = file.readlines()\n",
    "\n",
    "with open(testAppend,'r') as file:\n",
    "    ogAppend = file.readlines()\n",
    "\n",
    "try:\n",
    "    cleanFiles(testWrite,testAppend)\n",
    "except:\n",
    "    print('Error')\n",
    "\n",
    "with open(testWrite,'r') as file:\n",
    "    clWrite = file.readlines()\n",
    "\n",
    "with open(testAppend,'r') as file:\n",
    "    clAppend = file.readlines()\n",
    "        \n",
    "# checking if total no of rows is same, including headers\n",
    "\n",
    "if (len(ogWrite) + len(ogAppend) != len(clWrite) + len(clAppend)):\n",
    "    print(\"The number of rows do not add up. Make sure your final files have the same header and format.\")\n",
    "    passed = False\n",
    "    \n",
    "for line in clWrite:\n",
    "    if  'no' in line:\n",
    "        passed = False\n",
    "        print(\"Inactive members in file\")\n",
    "        break\n",
    "    else:\n",
    "        if line not in ogWrite:\n",
    "            print(\"Data in file does not match original file\")\n",
    "            passed = False\n",
    "print (\"{}\".format(testMsg(passed)))"
   ]
  },
  {
   "cell_type": "code",
   "execution_count": null,
   "id": "b8f23a82-ef15-49e2-897d-d22e960a0e69",
   "metadata": {},
   "outputs": [],
   "source": []
  }
 ],
 "metadata": {
  "kernelspec": {
   "display_name": "Python 3.10.1 64-bit",
   "language": "python",
   "name": "python3"
  },
  "language_info": {
   "codemirror_mode": {
    "name": "ipython",
    "version": 3
   },
   "file_extension": ".py",
   "mimetype": "text/x-python",
   "name": "python",
   "nbconvert_exporter": "python",
   "pygments_lexer": "ipython3",
   "version": "3.10.1"
  },
  "vscode": {
   "interpreter": {
    "hash": "d404347084406b8c6d005244449b7dd5f725b5df89987d39dd27b81ada4d10f3"
   }
  }
 },
 "nbformat": 4,
 "nbformat_minor": 5
}
