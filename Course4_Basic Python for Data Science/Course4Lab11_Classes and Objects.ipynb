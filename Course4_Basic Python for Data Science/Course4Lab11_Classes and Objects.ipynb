{
 "cells": [
  {
   "cell_type": "markdown",
   "id": "0cc5a64e-6752-4195-a0bd-c58453e3d982",
   "metadata": {},
   "source": [
    "# Course 4 Lab 11 - Classes and Objects"
   ]
  },
  {
   "cell_type": "code",
   "execution_count": 1,
   "id": "9e37f349-9e73-4996-b87f-f9b9033f3eae",
   "metadata": {},
   "outputs": [],
   "source": [
    "#import the library\n",
    "import matplotlib.pyplot as plt\n",
    "%matplotlib inline"
   ]
  },
  {
   "cell_type": "markdown",
   "id": "44b43d00-80c3-467f-b727-bd50394756a9",
   "metadata": {},
   "source": [
    "### Circle Class Example"
   ]
  },
  {
   "cell_type": "code",
   "execution_count": 15,
   "id": "9dbed871-e9b4-4594-bace-2d4c79efb3eb",
   "metadata": {},
   "outputs": [],
   "source": [
    "# creat a class circle\n",
    "class Circle(object):\n",
    "    #constructor\n",
    "    def __init__(self, radius = 3, color = 'blue'):\n",
    "        self.radius = radius\n",
    "        self.color = color\n",
    "        \n",
    "    #method\n",
    "    def add_radius(self, r):\n",
    "        self.radius = self.radius +r\n",
    "        return(self.radius)\n",
    "    \n",
    "    #method\n",
    "    def DrawCircle(self):\n",
    "        plt.gca().add_patch(plt.Circle((0,0),radius=self.radius, fc=self.color))\n",
    "        plt.axis('scaled')\n",
    "        plt.show()"
   ]
  },
  {
   "cell_type": "code",
   "execution_count": 16,
   "id": "7f9b5d0c-41de-40fb-b5aa-e0c5ba68c6b7",
   "metadata": {},
   "outputs": [],
   "source": [
    "# Create an object RedCircle\n",
    "RedCircle = Circle(10,'red')"
   ]
  },
  {
   "cell_type": "code",
   "execution_count": 17,
   "id": "4f8343a6-7362-4263-b24e-698bc9a2ccd8",
   "metadata": {},
   "outputs": [
    {
     "data": {
      "text/plain": [
       "['DrawCircle',\n",
       " '__class__',\n",
       " '__delattr__',\n",
       " '__dict__',\n",
       " '__dir__',\n",
       " '__doc__',\n",
       " '__eq__',\n",
       " '__format__',\n",
       " '__ge__',\n",
       " '__getattribute__',\n",
       " '__gt__',\n",
       " '__hash__',\n",
       " '__init__',\n",
       " '__init_subclass__',\n",
       " '__le__',\n",
       " '__lt__',\n",
       " '__module__',\n",
       " '__ne__',\n",
       " '__new__',\n",
       " '__reduce__',\n",
       " '__reduce_ex__',\n",
       " '__repr__',\n",
       " '__setattr__',\n",
       " '__sizeof__',\n",
       " '__str__',\n",
       " '__subclasshook__',\n",
       " '__weakref__',\n",
       " 'add_radius',\n",
       " 'color',\n",
       " 'radius']"
      ]
     },
     "execution_count": 17,
     "metadata": {},
     "output_type": "execute_result"
    }
   ],
   "source": [
    "# Find out the methods can be used on the object RedCircle\n",
    "dir(RedCircle)"
   ]
  },
  {
   "cell_type": "code",
   "execution_count": 18,
   "id": "a9e12f09-e316-4405-bb8c-f1c815d613b2",
   "metadata": {},
   "outputs": [
    {
     "data": {
      "text/plain": [
       "10"
      ]
     },
     "execution_count": 18,
     "metadata": {},
     "output_type": "execute_result"
    }
   ],
   "source": [
    "# Print the object attribute radius\n",
    "RedCircle.radius"
   ]
  },
  {
   "cell_type": "code",
   "execution_count": 19,
   "id": "93a0dafb-a6ae-4335-b1d4-32c4c042935f",
   "metadata": {},
   "outputs": [
    {
     "data": {
      "text/plain": [
       "'red'"
      ]
     },
     "execution_count": 19,
     "metadata": {},
     "output_type": "execute_result"
    }
   ],
   "source": [
    "# print the object attribute color\n",
    "RedCircle.color"
   ]
  },
  {
   "cell_type": "code",
   "execution_count": 20,
   "id": "21ff532d-43a8-4dea-8bff-cff485f8d919",
   "metadata": {},
   "outputs": [
    {
     "data": {
      "text/plain": [
       "1"
      ]
     },
     "execution_count": 20,
     "metadata": {},
     "output_type": "execute_result"
    }
   ],
   "source": [
    "# set the object attribute radius\n",
    "RedCircle.radius =1\n",
    "RedCircle.radius"
   ]
  },
  {
   "cell_type": "code",
   "execution_count": 21,
   "id": "2a514376-cdc6-403c-ba28-5049113f20fa",
   "metadata": {},
   "outputs": [
    {
     "data": {
      "image/png": "[encoded data removed]",
      "text/plain": [
       "<Figure size 432x288 with 1 Axes>"
      ]
     },
     "metadata": {
      "needs_background": "light"
     },
     "output_type": "display_data"
    }
   ],
   "source": [
    "# Call the method drawcircle\n",
    "RedCircle.DrawCircle()"
   ]
  },
  {
   "cell_type": "code",
   "execution_count": 22,
   "id": "94ed275c-d3b0-48b4-9b80-3df7ce2871be",
   "metadata": {},
   "outputs": [
    {
     "name": "stdout",
     "output_type": "stream",
     "text": [
      "Radius of object:  1\n",
      "Radius of object after adding 2:  3\n",
      "Radius of object after adding 5:  8\n"
     ]
    }
   ],
   "source": [
    "# use method to change the object attribute radius\n",
    "print('Radius of object: ',RedCircle.radius)\n",
    "RedCircle.add_radius(2)\n",
    "print('Radius of object after adding 2: ',RedCircle.radius)\n",
    "RedCircle.add_radius(5)\n",
    "print('Radius of object after adding 5: ',RedCircle.radius)"
   ]
  },
  {
   "cell_type": "code",
   "execution_count": 23,
   "id": "fedbf2ed-f44c-4fbf-a380-e934d1627c5b",
   "metadata": {},
   "outputs": [],
   "source": [
    "# create a blue circle with a given radius\n",
    "BlueCircle = Circle(radius = 100)"
   ]
  },
  {
   "cell_type": "code",
   "execution_count": 24,
   "id": "20dd0aaf-17bb-46a5-8e6a-4e9596d51436",
   "metadata": {},
   "outputs": [
    {
     "data": {
      "text/plain": [
       "100"
      ]
     },
     "execution_count": 24,
     "metadata": {},
     "output_type": "execute_result"
    }
   ],
   "source": [
    "# print the object attribute radius\n",
    "BlueCircle.radius"
   ]
  },
  {
   "cell_type": "code",
   "execution_count": 27,
   "id": "f1c47a99-e160-4ebe-b74d-91b75737c5f7",
   "metadata": {},
   "outputs": [
    {
     "data": {
      "text/plain": [
       "'blue'"
      ]
     },
     "execution_count": 27,
     "metadata": {},
     "output_type": "execute_result"
    }
   ],
   "source": [
    "# print the object attribute color\n",
    "BlueCircle.color"
   ]
  },
  {
   "cell_type": "code",
   "execution_count": 26,
   "id": "b60236b4-4930-4cf9-81b9-b04995c3ccb6",
   "metadata": {},
   "outputs": [
    {
     "data": {
      "image/png": "[encoded data removed]",
      "text/plain": [
       "<Figure size 432x288 with 1 Axes>"
      ]
     },
     "metadata": {
      "needs_background": "light"
     },
     "output_type": "display_data"
    }
   ],
   "source": [
    "# call the method drawCircle\n",
    "BlueCircle.DrawCircle()"
   ]
  },
  {
   "cell_type": "markdown",
   "id": "eb1d6a5c-a339-49ad-a40d-546443ebeed5",
   "metadata": {},
   "source": [
    "### Rectangle Class Example"
   ]
  },
  {
   "cell_type": "code",
   "execution_count": 28,
   "id": "e198bdd8-21d1-4812-9f3f-c8526e55aec7",
   "metadata": {},
   "outputs": [],
   "source": [
    "# create a new rectangle class for creating a rectangle object\n",
    "class Rectangle(object):\n",
    "    #constructor\n",
    "    def __init__(self, width = 2, height = 3, color = 'r'):\n",
    "        self.height = height\n",
    "        self.width = width\n",
    "        self.color = color\n",
    "        \n",
    "    #method\n",
    "    def drawRectangle(self):\n",
    "        plt.gca().add_patch(plt.Rectangle((0,0), self.width, self.height, fc=self.color))\n",
    "        plt.axis('scaled')\n",
    "        plt.show()"
   ]
  },
  {
   "cell_type": "code",
   "execution_count": 29,
   "id": "f7d702a1-0db7-4943-8daf-48e2a9918e00",
   "metadata": {},
   "outputs": [],
   "source": [
    "# create a new object rectangle\n",
    "skinnyBlueRect = Rectangle(2,3,'blue')"
   ]
  },
  {
   "cell_type": "code",
   "execution_count": 30,
   "id": "ba2c95d6-0ceb-470d-8a4e-0059ba937360",
   "metadata": {},
   "outputs": [
    {
     "data": {
      "text/plain": [
       "3"
      ]
     },
     "execution_count": 30,
     "metadata": {},
     "output_type": "execute_result"
    }
   ],
   "source": [
    "# print the object attribute height\n",
    "skinnyBlueRect.height"
   ]
  },
  {
   "cell_type": "code",
   "execution_count": 31,
   "id": "cb83abc4-b696-46bd-bb95-3c760247ad63",
   "metadata": {},
   "outputs": [
    {
     "data": {
      "text/plain": [
       "2"
      ]
     },
     "execution_count": 31,
     "metadata": {},
     "output_type": "execute_result"
    }
   ],
   "source": [
    "# print the object attribute width\n",
    "skinnyBlueRect.width"
   ]
  },
  {
   "cell_type": "code",
   "execution_count": 32,
   "id": "432324f4-8544-4d6b-b077-a89ba54e5c0e",
   "metadata": {},
   "outputs": [
    {
     "data": {
      "text/plain": [
       "'blue'"
      ]
     },
     "execution_count": 32,
     "metadata": {},
     "output_type": "execute_result"
    }
   ],
   "source": [
    "# print the object attribute color\n",
    "skinnyBlueRect.color"
   ]
  },
  {
   "cell_type": "code",
   "execution_count": 33,
   "id": "935542af-8625-4257-ab99-e9222a7ecf89",
   "metadata": {},
   "outputs": [
    {
     "data": {
      "image/png": "[encoded data removed]",
      "text/plain": [
       "<Figure size 432x288 with 1 Axes>"
      ]
     },
     "metadata": {
      "needs_background": "light"
     },
     "output_type": "display_data"
    }
   ],
   "source": [
    "# use the drawrectangle method tot draw the shape\n",
    "skinnyBlueRect.drawRectangle()"
   ]
  },
  {
   "cell_type": "markdown",
   "id": "5ff1fd3d-79ca-4513-988e-90d86a90e048",
   "metadata": {},
   "source": [
    "### Practice"
   ]
  },
  {
   "cell_type": "markdown",
   "id": "97719b70-a77d-4bf0-8293-4715d227e968",
   "metadata": {},
   "source": [
    "#### Instructions  \n",
    "You have been recruited by your friend, a linguistics enthusiast, to create a utility tool that can perform analysis on a given piece of text. Complete the class\n",
    "'analysedText' with the following methods -\n",
    "\n",
    "<ul>\n",
    "    <li> Constructor (__init__) - This method should take the argument <code>text</code>, make it lower case, and remove all punctuation.  Assume only the following punctuation is used: period (.), exclamation mark (!), comma (,) and question mark (?). Assign this newly formatted text to a new attribute called <code>fmtText</code>.\n",
    "    <li> freqAll - This method should create and <strong>return</strong> dictionary of all unique words in the text, along with the number of times they occur in the text. Each key in the dictionary should be the unique word appearing in the text and the associated value should be the number of times it occurs in the text. Create this dictionary from the <code>fmtText</code> attribute.\n",
    "    <li> freqOf - This method should take a word as an argument and <strong>return</strong> the number of occurrences of that word in <code>fmtText</code>.\n",
    "</ul>\n",
    " The skeleton code has been given to you. Docstrings can be ignored for the purpose of the exercise. <br>\n",
    " <i> Hint: Some useful functions are <code>replace()</code>, <code>lower()</code>, <code>split()</code>, <code>count()</code> </i><br>"
   ]
  },
  {
   "cell_type": "code",
   "execution_count": 44,
   "id": "9b8b978f-5031-4194-927f-fd27e750f69d",
   "metadata": {},
   "outputs": [],
   "source": [
    "class analysedText(object):\n",
    "    \n",
    "    #constructor\n",
    "    def __init__ (self, text):\n",
    "        # remove punctuation\n",
    "        formatText = text.replace('.','').replace('!','').replace(',','').replace('?','')\n",
    "        # make lower case\n",
    "        formatText = formatText.lower()\n",
    "        self.fmtText = formatText\n",
    "\n",
    "    def freqAll(self):  \n",
    "        # split text into words based on spaces\n",
    "        wordList = self.fmtText.split(' ')\n",
    "        # create a dictionary\n",
    "        wordDict = {}\n",
    "        # use set to remove duplicates\n",
    "        for word in set(wordList):\n",
    "            wordDict[word] = wordList.count(word)\n",
    "        return wordDict\n",
    "    \n",
    "    def freqOf(self, word):\n",
    "        # make a frequency map \n",
    "        freqDict = self.freqAll()\n",
    "        if word in freqDict:\n",
    "            return freqDict[word]\n",
    "        else:\n",
    "            return 0"
   ]
  },
  {
   "cell_type": "code",
   "execution_count": 45,
   "id": "8473ebf8-8327-49e8-afbb-77c8f7a5515c",
   "metadata": {},
   "outputs": [
    {
     "name": "stdout",
     "output_type": "stream",
     "text": [
      "Constructor: \n",
      "Test Passed\n",
      "freqAll: \n",
      "Test Passed\n",
      "freqOf: \n",
      "Test Passed\n"
     ]
    }
   ],
   "source": [
    "import sys\n",
    "\n",
    "sampleMap = {'eirmod': 1,'sed': 1, 'amet': 2, 'diam': 5, 'consetetur': 1, 'labore': 1, 'tempor': 1, 'dolor': 1, 'magna': 2, 'et': 3, 'nonumy': 1, 'ipsum': 1, 'lorem': 2}\n",
    "\n",
    "def testMsg(passed):\n",
    "    if passed:\n",
    "       return 'Test Passed'\n",
    "    else :\n",
    "       return 'Test Failed'\n",
    "\n",
    "print(\"Constructor: \")\n",
    "try:\n",
    "    samplePassage = analysedText(\"Lorem ipsum dolor! diam amet, consetetur Lorem magna. sed diam nonumy eirmod tempor. diam et labore? et diam magna. et diam amet.\")\n",
    "    print(testMsg(samplePassage.fmtText == \"lorem ipsum dolor diam amet consetetur lorem magna sed diam nonumy eirmod tempor diam et labore et diam magna et diam amet\"))\n",
    "except:\n",
    "    print(\"Error detected. Recheck your function \" )\n",
    "print(\"freqAll: \")\n",
    "try:\n",
    "    wordMap = samplePassage.freqAll()\n",
    "    print(testMsg(wordMap==sampleMap))\n",
    "except:\n",
    "    print(\"Error detected. Recheck your function \" )\n",
    "print(\"freqOf: \")\n",
    "try:\n",
    "    passed = True\n",
    "    for word in sampleMap:\n",
    "        if samplePassage.freqOf(word) != sampleMap[word]:\n",
    "            passed = False\n",
    "            break\n",
    "    print(testMsg(passed))\n",
    "    \n",
    "except:\n",
    "    print(\"Error detected. Recheck your function  \" )\n",
    "    "
   ]
  },
  {
   "cell_type": "code",
   "execution_count": null,
   "id": "a23eb47b-9a74-492d-9af0-1d7e05b117e1",
   "metadata": {},
   "outputs": [],
   "source": []
  }
 ],
 "metadata": {
  "kernelspec": {
   "display_name": "Python 3 (ipykernel)",
   "language": "python",
   "name": "python3"
  },
  "language_info": {
   "codemirror_mode": {
    "name": "ipython",
    "version": 3
   },
   "file_extension": ".py",
   "mimetype": "text/x-python",
   "name": "python",
   "nbconvert_exporter": "python",
   "pygments_lexer": "ipython3",
   "version": "3.9.12"
  }
 },
 "nbformat": 4,
 "nbformat_minor": 5
}
