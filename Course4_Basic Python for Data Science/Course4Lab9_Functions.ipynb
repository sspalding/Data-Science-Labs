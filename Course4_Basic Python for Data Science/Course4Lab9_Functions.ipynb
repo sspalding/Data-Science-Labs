{
 "cells": [
  {
   "cell_type": "markdown",
   "id": "60445f76-244b-4c7c-ae9d-f7f07212aa5b",
   "metadata": {},
   "source": [
    "# Course 4 Lab 9 - Functions in Python"
   ]
  },
  {
   "cell_type": "code",
   "execution_count": 1,
   "id": "b13035dc-6744-4a21-8970-50b2a1e5f089",
   "metadata": {},
   "outputs": [],
   "source": [
    "# example of a function\n",
    "def add(a):\n",
    "    \"\"\"\n",
    "    add 1 to a\n",
    "    \"\"\"\n",
    "    b = a+1\n",
    "    print(a, \"if you add one\", b)\n",
    "    return (b)"
   ]
  },
  {
   "cell_type": "code",
   "execution_count": 2,
   "id": "964ec40c-b83b-4f0b-b707-1a178abd980a",
   "metadata": {},
   "outputs": [
    {
     "name": "stdout",
     "output_type": "stream",
     "text": [
      "Help on function add in module __main__:\n",
      "\n",
      "add(a)\n",
      "    add 1 to a\n",
      "\n"
     ]
    }
   ],
   "source": [
    "# get help on the function we made\n",
    "help(add)"
   ]
  },
  {
   "cell_type": "code",
   "execution_count": 3,
   "id": "fd4ed1d9-2052-4583-9fcd-5442350baab9",
   "metadata": {},
   "outputs": [
    {
     "name": "stdout",
     "output_type": "stream",
     "text": [
      "1 if you add one 2\n"
     ]
    },
    {
     "data": {
      "text/plain": [
       "2"
      ]
     },
     "execution_count": 3,
     "metadata": {},
     "output_type": "execute_result"
    }
   ],
   "source": [
    "# call the function add\n",
    "add(1)"
   ]
  },
  {
   "cell_type": "code",
   "execution_count": 4,
   "id": "bef4e0b0-af08-4a90-85e6-398e272d5f3d",
   "metadata": {},
   "outputs": [
    {
     "name": "stdout",
     "output_type": "stream",
     "text": [
      "24\n"
     ]
    }
   ],
   "source": [
    "# function with multiple arguments\n",
    "def Mult(a,b):\n",
    "    c=a*b\n",
    "    return(c)\n",
    "    print('this is not printed')\n",
    "result = Mult(12,2)\n",
    "print(result)"
   ]
  },
  {
   "cell_type": "code",
   "execution_count": 5,
   "id": "e3f384a2-dab5-47c3-ba2a-d76d448c1501",
   "metadata": {},
   "outputs": [
    {
     "data": {
      "text/plain": [
       "6"
      ]
     },
     "execution_count": 5,
     "metadata": {},
     "output_type": "execute_result"
    }
   ],
   "source": [
    "# use mult() multiply two integers\n",
    "Mult(2,3)"
   ]
  },
  {
   "cell_type": "code",
   "execution_count": 9,
   "id": "d1f37e09-0f02-4c95-b45d-d96e27bbde6a",
   "metadata": {},
   "outputs": [
    {
     "data": {
      "text/plain": [
       "31.400000000000002"
      ]
     },
     "execution_count": 9,
     "metadata": {},
     "output_type": "execute_result"
    }
   ],
   "source": [
    "# we can use the function with different data types\n",
    "Mult(10.0,3.14)"
   ]
  },
  {
   "cell_type": "code",
   "execution_count": 10,
   "id": "7542198a-1c35-4cf3-9e0a-392e02f84c59",
   "metadata": {},
   "outputs": [
    {
     "data": {
      "text/plain": [
       "'JJ BoyJJ Boy'"
      ]
     },
     "execution_count": 10,
     "metadata": {},
     "output_type": "execute_result"
    }
   ],
   "source": [
    "Mult(2,\"JJ Boy\")"
   ]
  },
  {
   "cell_type": "markdown",
   "id": "edf59a3c-3851-4a59-a504-b2fcbe771cb2",
   "metadata": {},
   "source": [
    "### Variables"
   ]
  },
  {
   "cell_type": "code",
   "execution_count": 11,
   "id": "b015986f-2830-465f-b54c-daf1950f9722",
   "metadata": {},
   "outputs": [],
   "source": [
    "# A variable defined in a function is a local variable, variables defined outside are global\n",
    "def square(a):\n",
    "    #local variable b\n",
    "    b=1\n",
    "    c = a*a+b\n",
    "    print(a, 'if you square + 1 ', c)\n",
    "    return(c)"
   ]
  },
  {
   "cell_type": "code",
   "execution_count": 12,
   "id": "47747a96-34b6-4140-8b7e-a9a0380d06b2",
   "metadata": {},
   "outputs": [
    {
     "name": "stdout",
     "output_type": "stream",
     "text": [
      "3 if you square + 1  10\n"
     ]
    },
    {
     "data": {
      "text/plain": [
       "10"
      ]
     },
     "execution_count": 12,
     "metadata": {},
     "output_type": "execute_result"
    }
   ],
   "source": [
    "# initialize a global variable \n",
    "x = 3\n",
    "y = square(x)\n",
    "y"
   ]
  },
  {
   "cell_type": "code",
   "execution_count": 13,
   "id": "7d0ae126-06d6-4dac-998d-119075f3b265",
   "metadata": {},
   "outputs": [
    {
     "name": "stdout",
     "output_type": "stream",
     "text": [
      "2 if you square + 1  5\n"
     ]
    },
    {
     "data": {
      "text/plain": [
       "5"
      ]
     },
     "execution_count": 13,
     "metadata": {},
     "output_type": "execute_result"
    }
   ],
   "source": [
    "# or you can directly enter the number as a parameter\n",
    "square(2)"
   ]
  },
  {
   "cell_type": "markdown",
   "id": "12c38e38-ff6a-49f8-aa98-1b7875de292a",
   "metadata": {},
   "source": [
    "### Return Statements"
   ]
  },
  {
   "cell_type": "code",
   "execution_count": 14,
   "id": "a3846be5-d2cd-4b5a-84e1-4efa2ff6320c",
   "metadata": {},
   "outputs": [],
   "source": [
    "# define functions one with return value none and the other without a return value\n",
    "def MJ():\n",
    "    print('Michael Jackson')\n",
    "def MJ1():\n",
    "    print('Michael Jackson')\n",
    "    return(None)"
   ]
  },
  {
   "cell_type": "code",
   "execution_count": 17,
   "id": "e7bc0c61-7e24-46d2-b9fd-89b7b7be88d3",
   "metadata": {},
   "outputs": [
    {
     "name": "stdout",
     "output_type": "stream",
     "text": [
      "Michael Jackson\n"
     ]
    }
   ],
   "source": [
    "# output\n",
    "MJ()"
   ]
  },
  {
   "cell_type": "code",
   "execution_count": 18,
   "id": "9b65fc49-f9e0-4a7b-adb7-c70c436afd7e",
   "metadata": {},
   "outputs": [
    {
     "name": "stdout",
     "output_type": "stream",
     "text": [
      "Michael Jackson\n"
     ]
    }
   ],
   "source": [
    "# output\n",
    "MJ1()"
   ]
  },
  {
   "cell_type": "code",
   "execution_count": 19,
   "id": "1618cde5-e14f-4551-a580-42cfc13905a2",
   "metadata": {},
   "outputs": [
    {
     "name": "stdout",
     "output_type": "stream",
     "text": [
      "Michael Jackson\n",
      "None\n",
      "Michael Jackson\n",
      "None\n"
     ]
    }
   ],
   "source": [
    "# See what function returns are \n",
    "print(MJ())\n",
    "print(MJ1())"
   ]
  },
  {
   "cell_type": "markdown",
   "id": "6309ef3b-d715-4d66-998a-0281761c3de4",
   "metadata": {},
   "source": [
    "### Predifined Functions"
   ]
  },
  {
   "cell_type": "code",
   "execution_count": 20,
   "id": "b38ee049-ed1b-43fd-9391-27f7c8d3853e",
   "metadata": {},
   "outputs": [
    {
     "name": "stdout",
     "output_type": "stream",
     "text": [
      "[1, 2, 3]\n"
     ]
    }
   ],
   "source": [
    "# the print functions\n",
    "a = [1,2,3]\n",
    "print(a)"
   ]
  },
  {
   "cell_type": "code",
   "execution_count": 21,
   "id": "075d44b0-f50e-4fd9-9dff-c9307cb141a6",
   "metadata": {},
   "outputs": [
    {
     "data": {
      "text/plain": [
       "6"
      ]
     },
     "execution_count": 21,
     "metadata": {},
     "output_type": "execute_result"
    }
   ],
   "source": [
    "# sum function\n",
    "sum(a)"
   ]
  },
  {
   "cell_type": "code",
   "execution_count": 22,
   "id": "ce2d1532-34db-4af1-8f6c-3737ef708993",
   "metadata": {},
   "outputs": [
    {
     "data": {
      "text/plain": [
       "3"
      ]
     },
     "execution_count": 22,
     "metadata": {},
     "output_type": "execute_result"
    }
   ],
   "source": [
    "# len function\n",
    "len(a)"
   ]
  },
  {
   "cell_type": "markdown",
   "id": "6205c5bb-2350-4f85-8cad-6a430506db58",
   "metadata": {},
   "source": [
    "### Using if / else statments and loops in functions"
   ]
  },
  {
   "cell_type": "code",
   "execution_count": 24,
   "id": "b1bbbc39-83db-4fd7-b59f-3e2666237ed7",
   "metadata": {},
   "outputs": [
    {
     "name": "stdout",
     "output_type": "stream",
     "text": [
      "micheal jackson thriller 1980\n",
      "old\n"
     ]
    }
   ],
   "source": [
    "# example if / else\n",
    "def type_album(artist, album, year_released):\n",
    "    print(artist, album, year_released)\n",
    "    if year_released > 1980:\n",
    "        return \"Modern\"\n",
    "    else:\n",
    "        return \"old\"\n",
    "x = type_album(\"micheal jackson\", \"thriller\", 1980)\n",
    "print(x)\n",
    "        "
   ]
  },
  {
   "cell_type": "code",
   "execution_count": 26,
   "id": "03d894ee-a2ab-427c-b81a-2dc59527f9af",
   "metadata": {},
   "outputs": [
    {
     "name": "stdout",
     "output_type": "stream",
     "text": [
      "1\n",
      "1\n",
      "the man\n",
      "abc\n"
     ]
    }
   ],
   "source": [
    "# for loop example\n",
    "def printList(the_list):\n",
    "    for element in the_list:\n",
    "        print(element)\n",
    "printList(['1',1,'the man','abc'])"
   ]
  },
  {
   "cell_type": "markdown",
   "id": "b87f1072-3550-4b7c-9000-53c60d6b9f2a",
   "metadata": {},
   "source": [
    "### Setting default argument values in your custom functions"
   ]
  },
  {
   "cell_type": "code",
   "execution_count": 28,
   "id": "00abed87-9909-40b8-8dd6-396d8fdc95fb",
   "metadata": {},
   "outputs": [
    {
     "name": "stdout",
     "output_type": "stream",
     "text": [
      "sucks, rating  4\n"
     ]
    }
   ],
   "source": [
    "# example for setting param with default value\n",
    "def isGood(rating = 4):\n",
    "    if (rating<7):\n",
    "        print('sucks, rating ', rating)\n",
    "    else:\n",
    "        print('good, rating ', rating)\n",
    "\n",
    "isGood()"
   ]
  },
  {
   "cell_type": "code",
   "execution_count": 29,
   "id": "55dad980-af51-4dee-a1d0-7ea5ff8fbe4c",
   "metadata": {},
   "outputs": [
    {
     "name": "stdout",
     "output_type": "stream",
     "text": [
      "good, rating  10\n"
     ]
    }
   ],
   "source": [
    "# try with input value\n",
    "isGood(10)"
   ]
  },
  {
   "cell_type": "markdown",
   "id": "923ca656-f232-4208-b7b2-d2296b01576e",
   "metadata": {},
   "source": [
    "### Global Variables"
   ]
  },
  {
   "cell_type": "code",
   "execution_count": 31,
   "id": "40515d47-e880-4f01-b125-43b798c06200",
   "metadata": {},
   "outputs": [
    {
     "name": "stdout",
     "output_type": "stream",
     "text": [
      "Michael Jackson  is an artist\n",
      "whitney houston  is an artist\n"
     ]
    }
   ],
   "source": [
    "# example of global variable\n",
    "artist = 'Michael Jackson'\n",
    "def printer(artist):\n",
    "    global internal_var\n",
    "    internal_var = 'whitney houston'\n",
    "    print(artist, ' is an artist')\n",
    "\n",
    "printer(artist)\n",
    "printer(internal_var)"
   ]
  },
  {
   "cell_type": "markdown",
   "id": "fd77f164-1cea-4594-91fe-edc54fe52287",
   "metadata": {},
   "source": [
    "### Collections and Functions"
   ]
  },
  {
   "cell_type": "code",
   "execution_count": 32,
   "id": "c20c1974-1303-422b-a1d4-438775a57229",
   "metadata": {},
   "outputs": [
    {
     "name": "stdout",
     "output_type": "stream",
     "text": [
      "Num of arguments:  3\n",
      "Horse\n",
      "Bunny\n",
      "yellow\n"
     ]
    }
   ],
   "source": [
    "# when the number of arguments are unknown they can be packed into a tuple\n",
    "def printAll(*args):\n",
    "    print(\"Num of arguments: \", len(args))\n",
    "    for argument in args:\n",
    "        print(argument)\n",
    "\n",
    "printAll('Horse','Bunny','yellow')"
   ]
  },
  {
   "cell_type": "code",
   "execution_count": 34,
   "id": "316fd58f-41c3-4225-bf45-db39fee9ad68",
   "metadata": {},
   "outputs": [
    {
     "name": "stdout",
     "output_type": "stream",
     "text": [
      "country : Canada\n",
      "province : ontario\n",
      "city : toronto\n"
     ]
    }
   ],
   "source": [
    "# similarly the arguments can be packed into a dictionary\n",
    "def printDict(**args):\n",
    "    for key in args:\n",
    "        print(key + ' : ' + args[key])\n",
    "              \n",
    "printDict(country = 'Canada', province = 'ontario', city = 'toronto')"
   ]
  },
  {
   "cell_type": "markdown",
   "id": "f6c73447-a71f-45d3-8fdb-93e4671a1885",
   "metadata": {},
   "source": [
    "### Practice"
   ]
  },
  {
   "cell_type": "code",
   "execution_count": 35,
   "id": "1b4820a6-5087-4797-aa77-042f930072ce",
   "metadata": {},
   "outputs": [
    {
     "name": "stdout",
     "output_type": "stream",
     "text": [
      "6.0\n"
     ]
    }
   ],
   "source": [
    "# Come up with a function that divides the first input by the second input:\n",
    "def Div(a,b):\n",
    "    c=a/b\n",
    "    return(c)\n",
    "    \n",
    "result = Div(12,2)\n",
    "print(result)"
   ]
  },
  {
   "cell_type": "code",
   "execution_count": null,
   "id": "758ac2da-c38d-4a03-8a3d-7431edfcc4d1",
   "metadata": {},
   "outputs": [],
   "source": []
  }
 ],
 "metadata": {
  "kernelspec": {
   "display_name": "Python 3 (ipykernel)",
   "language": "python",
   "name": "python3"
  },
  "language_info": {
   "codemirror_mode": {
    "name": "ipython",
    "version": 3
   },
   "file_extension": ".py",
   "mimetype": "text/x-python",
   "name": "python",
   "nbconvert_exporter": "python",
   "pygments_lexer": "ipython3",
   "version": "3.9.12"
  }
 },
 "nbformat": 4,
 "nbformat_minor": 5
}
