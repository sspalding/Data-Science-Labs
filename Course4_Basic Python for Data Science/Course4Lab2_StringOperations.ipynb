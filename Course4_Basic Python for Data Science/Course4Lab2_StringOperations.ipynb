{
 "cells": [
  {
   "cell_type": "markdown",
   "id": "8327c1aa-a494-4e77-bdd5-2535184f2e26",
   "metadata": {},
   "source": [
    "# Course 4 Lab 2 - String Operations"
   ]
  },
  {
   "cell_type": "markdown",
   "id": "fe6722ae-50f5-41e6-8459-8bb0126ed42c",
   "metadata": {},
   "source": [
    "### Defining a string"
   ]
  },
  {
   "cell_type": "code",
   "execution_count": 1,
   "id": "b1830588",
   "metadata": {},
   "outputs": [],
   "source": [
    "import warnings\n",
    "warnings.filterwarnings(\"ignore\", category=DeprecationWarning)\n",
    "warnings.filterwarnings(\"ignore\", category=FutureWarning)"
   ]
  },
  {
   "cell_type": "code",
   "execution_count": 2,
   "id": "871f60e0-e099-4670-9311-b4edf373ea46",
   "metadata": {},
   "outputs": [
    {
     "name": "stdout",
     "output_type": "stream",
     "text": [
      "michael\n",
      "michael\n"
     ]
    }
   ],
   "source": [
    "# we define a string using \"\" or ''\n",
    "print(\"michael\")\n",
    "print('michael')"
   ]
  },
  {
   "cell_type": "code",
   "execution_count": 3,
   "id": "91ab6a6c-57ca-491b-8918-f2b44f9c27b2",
   "metadata": {},
   "outputs": [
    {
     "name": "stdout",
     "output_type": "stream",
     "text": [
      "1 2 , 40 !\n"
     ]
    }
   ],
   "source": [
    "# digits, spaces, and special charachters all go in strings\n",
    "print('1 2 , 40 !')"
   ]
  },
  {
   "cell_type": "markdown",
   "id": "1ea108dd-2ea7-4554-adf1-6766beb6736c",
   "metadata": {},
   "source": [
    "### Indexing"
   ]
  },
  {
   "cell_type": "code",
   "execution_count": 4,
   "id": "289425e0-5a8f-4e4e-84c0-54b3fc90ceb5",
   "metadata": {},
   "outputs": [
    {
     "name": "stdout",
     "output_type": "stream",
     "text": [
      "G\n"
     ]
    }
   ],
   "source": [
    "# we can think of strings as ordered sequences and access index in the array\n",
    "name = 'GaTech'\n",
    "print(name[0])"
   ]
  },
  {
   "cell_type": "code",
   "execution_count": 5,
   "id": "ed5802ca-b65c-489c-b63f-17e08bd6f8ee",
   "metadata": {},
   "outputs": [
    {
     "name": "stdout",
     "output_type": "stream",
     "text": [
      "s\n"
     ]
    }
   ],
   "source": [
    "# we can also do negative indexing where the last element is -1\n",
    "school = 'Mercer University'\n",
    "print(school[-4])"
   ]
  },
  {
   "cell_type": "code",
   "execution_count": 6,
   "id": "fc23ad39-f29c-407a-b2dc-5ba313af1bf0",
   "metadata": {},
   "outputs": [
    {
     "data": {
      "text/plain": [
       "15"
      ]
     },
     "execution_count": 6,
     "metadata": {},
     "output_type": "execute_result"
    }
   ],
   "source": [
    "# we find the length of the sting using the len function\n",
    "len('Vase of Flowers')"
   ]
  },
  {
   "cell_type": "markdown",
   "id": "f5a759b9-d165-494b-ba8a-cd9cb08f5f47",
   "metadata": {},
   "source": [
    "### Slicing"
   ]
  },
  {
   "cell_type": "code",
   "execution_count": 7,
   "id": "49be0c0f-19df-49ec-8684-16b6ca9058f3",
   "metadata": {},
   "outputs": [
    {
     "data": {
      "text/plain": [
       "'Mich'"
      ]
     },
     "execution_count": 7,
     "metadata": {},
     "output_type": "execute_result"
    }
   ],
   "source": [
    "# we can obtain multiple charachters from a string using slicing\n",
    "# when taking the slice, the first number means the index (start), and the second number is the length from the index to the last element you want\n",
    "name = 'Michael Jackson'\n",
    "name[0:4]"
   ]
  },
  {
   "cell_type": "markdown",
   "id": "62aaca80-4bad-4823-a8fe-4517d6957f7f",
   "metadata": {},
   "source": [
    "### Stride"
   ]
  },
  {
   "cell_type": "code",
   "execution_count": 8,
   "id": "51a20360-0838-4ee1-8e12-374fc7974209",
   "metadata": {},
   "outputs": [
    {
     "data": {
      "text/plain": [
       "'McalJcsn'"
      ]
     },
     "execution_count": 8,
     "metadata": {},
     "output_type": "execute_result"
    }
   ],
   "source": [
    "# the 2 idicated that we are selecting every second variable\n",
    "Name = 'Michael Jackson'\n",
    "Name[::2]"
   ]
  },
  {
   "cell_type": "code",
   "execution_count": 9,
   "id": "b8cc68c2-cc56-43d2-8600-47475aa87cd7",
   "metadata": {},
   "outputs": [
    {
     "data": {
      "text/plain": [
       "'Mca'"
      ]
     },
     "execution_count": 9,
     "metadata": {},
     "output_type": "execute_result"
    }
   ],
   "source": [
    "# we can incorporate slicing with stride\n",
    "# select the first five elements and use stride\n",
    "Name = 'Michael Jackson'\n",
    "Name[0:5:2]"
   ]
  },
  {
   "cell_type": "markdown",
   "id": "ffff3803-dc41-4abe-bdf0-d130a8bb60d2",
   "metadata": {
    "tags": []
   },
   "source": [
    "### Concatonate Strings"
   ]
  },
  {
   "cell_type": "code",
   "execution_count": 10,
   "id": "f5940fc1-0c5e-448f-a8e3-a22ae9fe126c",
   "metadata": {},
   "outputs": [
    {
     "name": "stdout",
     "output_type": "stream",
     "text": [
      "I went to Mercer\n"
     ]
    }
   ],
   "source": [
    "# concatonate / combine strings by using addition\n",
    "school = 'Mercer'\n",
    "statement = 'I went to ' + school\n",
    "print(statement)"
   ]
  },
  {
   "cell_type": "code",
   "execution_count": 11,
   "id": "c1995dc1-80d5-4b36-8832-ba0e1badc370",
   "metadata": {},
   "outputs": [
    {
     "data": {
      "text/plain": [
       "'MercerMercerMercer'"
      ]
     },
     "execution_count": 11,
     "metadata": {},
     "output_type": "execute_result"
    }
   ],
   "source": [
    "# to replicate we use multiplcation\n",
    "3*school"
   ]
  },
  {
   "cell_type": "markdown",
   "id": "185147ae-3a33-4240-8642-a28c814fafa5",
   "metadata": {},
   "source": [
    "### Escape Sequences"
   ]
  },
  {
   "cell_type": "code",
   "execution_count": 12,
   "id": "4b8de30d-15d2-40d7-8ddd-e2991ad1cc81",
   "metadata": {},
   "outputs": [
    {
     "name": "stdout",
     "output_type": "stream",
     "text": [
      "my mouse \n",
      " is blue\n"
     ]
    }
   ],
   "source": [
    "# escape sequences are strings that are difficult to input\n",
    "# \\n is new line\n",
    "print('my mouse \\n is blue')"
   ]
  },
  {
   "cell_type": "code",
   "execution_count": 13,
   "id": "0913f808-a581-4773-b605-ae40960547a4",
   "metadata": {},
   "outputs": [
    {
     "name": "stdout",
     "output_type": "stream",
     "text": [
      "my mouse \t is blue\n"
     ]
    }
   ],
   "source": [
    "# \\t is tab\n",
    "print('my mouse \\t is blue')"
   ]
  },
  {
   "cell_type": "code",
   "execution_count": 14,
   "id": "12f02954-38ae-466f-a65e-c83d97622763",
   "metadata": {},
   "outputs": [
    {
     "name": "stdout",
     "output_type": "stream",
     "text": [
      "my mouse \\ is blue\n"
     ]
    }
   ],
   "source": [
    "# \\\\ includes \\ in the string\n",
    "print('my mouse \\\\ is blue')"
   ]
  },
  {
   "cell_type": "code",
   "execution_count": 15,
   "id": "2bf12e2d-2455-47bd-bb85-f4f4711c8b6d",
   "metadata": {},
   "outputs": [
    {
     "name": "stdout",
     "output_type": "stream",
     "text": [
      "my mouse \\ is blue\n"
     ]
    }
   ],
   "source": [
    "# r tells python to desplay the string as a raw string\n",
    "print(r'my mouse \\ is blue')"
   ]
  },
  {
   "cell_type": "markdown",
   "id": "d26dad89-c10d-467a-9044-84efc5f91ee1",
   "metadata": {},
   "source": [
    "### String Operations"
   ]
  },
  {
   "cell_type": "code",
   "execution_count": 16,
   "id": "bdb3501a-46da-40b8-addd-2f4032f050a4",
   "metadata": {},
   "outputs": [
    {
     "name": "stdout",
     "output_type": "stream",
     "text": [
      "I LOVE ROCK N ROLL\n"
     ]
    }
   ],
   "source": [
    "# the method upper converts all leters to upper case\n",
    "a = 'i love rock n roll'\n",
    "b = a.upper()\n",
    "print(b)"
   ]
  },
  {
   "cell_type": "code",
   "execution_count": 17,
   "id": "b7e884ba-bab4-411b-94c1-7aa89bc7d78d",
   "metadata": {},
   "outputs": [
    {
     "name": "stdout",
     "output_type": "stream",
     "text": [
      "My straw is blue\n"
     ]
    }
   ],
   "source": [
    "# the method replace replaces a segment of the string with a new string\n",
    "a = \"My straw is pink\"\n",
    "# the first argument is what we want to change, the second argument is what we are replacing it with\n",
    "b = a.replace(\"pink\",\"blue\")\n",
    "print(b)"
   ]
  },
  {
   "cell_type": "code",
   "execution_count": 18,
   "id": "79c98231-6d52-425c-9831-63a447bc2030",
   "metadata": {},
   "outputs": [
    {
     "data": {
      "text/plain": [
       "0"
      ]
     },
     "execution_count": 18,
     "metadata": {},
     "output_type": "execute_result"
    }
   ],
   "source": [
    "# the method find finds a substring, if the substring cannot be found it outputs -1\n",
    "name = 'JJ Boy'\n",
    "name.find('JJ')"
   ]
  },
  {
   "cell_type": "markdown",
   "id": "698b3a0e-efad-4c45-9705-01d6d3aa2ec1",
   "metadata": {},
   "source": [
    "### Practice"
   ]
  },
  {
   "cell_type": "code",
   "execution_count": 19,
   "id": "518468cf-ed09-46b8-a609-9fdd72ae3587",
   "metadata": {},
   "outputs": [
    {
     "name": "stdout",
     "output_type": "stream",
     "text": [
      "ABC\n"
     ]
    }
   ],
   "source": [
    "# use slicing to print the first 3 elements of the variable\n",
    "d = 'ABCDEFG'\n",
    "print(d[0:3])"
   ]
  },
  {
   "cell_type": "code",
   "execution_count": 20,
   "id": "f9f18089-9d1b-47bc-b1fe-d94e200293e0",
   "metadata": {},
   "outputs": [
    {
     "name": "stdout",
     "output_type": "stream",
     "text": [
      "GOOD\n"
     ]
    }
   ],
   "source": [
    "# use a stride value of 2 to print every 2nd charachter\n",
    "a = 'GFODOED'\n",
    "print(a[::2])"
   ]
  },
  {
   "cell_type": "code",
   "execution_count": 21,
   "id": "054f0a8c-28bf-4903-bcb4-6d6f4e6135f2",
   "metadata": {},
   "outputs": [
    {
     "name": "stdout",
     "output_type": "stream",
     "text": [
      " \\ \n"
     ]
    }
   ],
   "source": [
    "# print a backslash\n",
    "print(r' \\ ')"
   ]
  },
  {
   "cell_type": "code",
   "execution_count": 22,
   "id": "32c2935a-b7b4-4c3b-8558-65b9e0f8377f",
   "metadata": {},
   "outputs": [
    {
     "name": "stdout",
     "output_type": "stream",
     "text": [
      "SO TIRED\n"
     ]
    }
   ],
   "source": [
    "# convert the variable f to upper case\n",
    "f = 'so tired'\n",
    "print(f.upper())"
   ]
  },
  {
   "cell_type": "code",
   "execution_count": 23,
   "id": "a33b8e84-831d-4549-b385-392b120d96be",
   "metadata": {},
   "outputs": [
    {
     "data": {
      "text/plain": [
       "95"
      ]
     },
     "execution_count": 23,
     "metadata": {},
     "output_type": "execute_result"
    }
   ],
   "source": [
    "# find the first index of the substring snow\n",
    "g = \"Mary had a little lamb Little lamb, little lamb Mary had a little lamb \\\n",
    "Its fleece was white as snow And everywhere that Mary went Mary went, Mary went \\\n",
    "Everywhere that Mary went The lamb was sure to go\"\n",
    "g.find('snow')"
   ]
  },
  {
   "cell_type": "code",
   "execution_count": 24,
   "id": "5745f6d5-64ff-4c45-9d11-a04e8adec269",
   "metadata": {},
   "outputs": [
    {
     "data": {
      "text/plain": [
       "'Bob had a little lamb Little lamb, little lamb Bob had a little lamb Its fleece was white as snow And everywhere that Bob went Bob went, Bob went Everywhere that Bob went The lamb was sure to go'"
      ]
     },
     "execution_count": 24,
     "metadata": {},
     "output_type": "execute_result"
    }
   ],
   "source": [
    "# replace mary with bob\n",
    "g = \"Mary had a little lamb Little lamb, little lamb Mary had a little lamb \\\n",
    "Its fleece was white as snow And everywhere that Mary went Mary went, Mary went \\\n",
    "Everywhere that Mary went The lamb was sure to go\"\n",
    "g.replace('Mary','Bob')"
   ]
  },
  {
   "cell_type": "code",
   "execution_count": null,
   "id": "6288d185-cf6c-4bfd-9315-2c18bfd96b2d",
   "metadata": {},
   "outputs": [],
   "source": []
  }
 ],
 "metadata": {
  "kernelspec": {
   "display_name": "Python 3.10.1 64-bit",
   "language": "python",
   "name": "python3"
  },
  "language_info": {
   "codemirror_mode": {
    "name": "ipython",
    "version": 3
   },
   "file_extension": ".py",
   "mimetype": "text/x-python",
   "name": "python",
   "nbconvert_exporter": "python",
   "pygments_lexer": "ipython3",
   "version": "3.10.1"
  },
  "vscode": {
   "interpreter": {
    "hash": "d404347084406b8c6d005244449b7dd5f725b5df89987d39dd27b81ada4d10f3"
   }
  }
 },
 "nbformat": 4,
 "nbformat_minor": 5
}
