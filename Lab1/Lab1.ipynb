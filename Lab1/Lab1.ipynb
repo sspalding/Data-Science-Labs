{
 "cells": [
  {
   "cell_type": "markdown",
   "id": "fda94f26-93be-48e1-add4-2dfad0a8e756",
   "metadata": {},
   "source": [
    "# Lab 1 - 8/25/2022\n",
    "## Exercise 1 - basic math\n",
    "try basic math code operations"
   ]
  },
  {
   "cell_type": "code",
   "execution_count": 5,
   "id": "4496c564-ec0b-48d2-b3b4-349a911b6857",
   "metadata": {},
   "outputs": [
    {
     "name": "stdout",
     "output_type": "stream",
     "text": [
      "3\n"
     ]
    }
   ],
   "source": [
    "a=1\n",
    "b=2\n",
    "c=a+b\n",
    "print(c)"
   ]
  },
  {
   "cell_type": "markdown",
   "id": "8fbb341a-5955-4693-a3b3-7b6926f86e49",
   "metadata": {},
   "source": [
    "## Exercise 2 - shortcuts\n",
    "insert cells shortcuts  \n",
    "a - insert cell above\n",
    "b - insert cell below  \n",
    "Note: you have to press space twice to start a new line  \n",
    "to run code you can press the play button or do shift enter  \n",
    "m - convert cell to markdown"
   ]
  },
  {
   "cell_type": "markdown",
   "id": "1aabe49f-3de0-4540-88b4-d9ed7c4668ed",
   "metadata": {},
   "source": [
    "## Exercise 3 - upload to skills lab \n",
    "upload jupyter notebook to skills network lab, drag and drop a .ipynb file   \n",
    "to change the kernel type, click on the language in the top right and choose the one you want"
   ]
  },
  {
   "cell_type": "markdown",
   "id": "219af573-d2a0-4fdb-b639-1b5393dc7dae",
   "metadata": {},
   "source": [
    "## Exercise 4 - links in markdown\n",
    "you can write html code in markdown cells, you can embed links    \n",
    "this is a linke to the ibm cloud gallery \n",
    "<a href=\"https://dataplatform.cloud.ibm.com/gallery\">IBM Cloud Gallery</a>  \n",
    "this is a link to the markdown formatting cheatsheet  \n",
    "<a href=\"https://github.com/adam-p/markdown-here/wiki/Markdown-Cheatsheet\">markdown cheatsheet</a>   \n",
    "the format for adding links is  \n",
    "<.a href=\"link\">name of link<./a> (ignore the periods)  \n",
    "another way to do it, link name in brackets, actual link in parentheses  \n",
    "[markdown cheatsheet](https://github.com/adam-p/markdown-here/wiki/Markdown-Cheatsheet)"
   ]
  },
  {
   "cell_type": "markdown",
   "id": "c00bb241-8612-487a-bf12-b93d42f149c6",
   "metadata": {},
   "source": [
    "## Exercise 4 - tables in markdown\n",
    "put | around your columns and put - below your headers  \n",
    "\n",
    "| header | header |\n",
    "| ------ | ------ |\n",
    "| cell | cell |"
   ]
  },
  {
   "cell_type": "markdown",
   "id": "28918f13-7b96-4c9d-93af-5f7cb730d293",
   "metadata": {},
   "source": [
    "## Resources\n",
    "[jupyter notebooks on github](https://github.com/jupyter/jupyter/wiki)  \n",
    "[exploratory data analysis](https://nbviewer.jupyter.org/github/Tanu-N-Prabhu/Python/blob/master/Exploratory_data_Analysis.ipynb)  \n",
    "[data integration - pandas](https://towardsdatascience.com/data-cleaning-with-python-using-pandas-library-c6f4a68ea8eb)  \n",
    "[clustering](https://nbviewer.jupyter.org/github/temporaer/tutorial_ml_gkbionics/blob/master/2%20-%20KMeans.ipynb)  \n",
    "[iris dataset](https://www.kaggle.com/lalitharajesh/iris-dataset-exploratory-data-analysis)"
   ]
  },
  {
   "cell_type": "code",
   "execution_count": null,
   "id": "7d02bb80-a2ae-4262-b5f5-0d582662ca22",
   "metadata": {},
   "outputs": [],
   "source": []
  }
 ],
 "metadata": {
  "kernelspec": {
   "display_name": "Python 3 (ipykernel)",
   "language": "python",
   "name": "python3"
  },
  "language_info": {
   "codemirror_mode": {
    "name": "ipython",
    "version": 3
   },
   "file_extension": ".py",
   "mimetype": "text/x-python",
   "name": "python",
   "nbconvert_exporter": "python",
   "pygments_lexer": "ipython3",
   "version": "3.9.12"
  }
 },
 "nbformat": 4,
 "nbformat_minor": 5
}
