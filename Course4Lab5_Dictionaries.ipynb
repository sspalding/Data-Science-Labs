{
 "cells": [
  {
   "cell_type": "markdown",
   "id": "7df626a0-9820-468d-8ac5-4cc4891953b8",
   "metadata": {},
   "source": [
    "# Course 4 Lab 5 - Dictionaries in Python"
   ]
  },
  {
   "cell_type": "code",
   "execution_count": 3,
   "id": "1403d2d2-1839-400c-a723-747ebae8a4ae",
   "metadata": {},
   "outputs": [
    {
     "data": {
      "text/plain": [
       "{'key1': 1,\n",
       " 'key2': '2',\n",
       " 'key3': [3, 3, 3],\n",
       " 'key4': (4, 4, 4),\n",
       " 'key5': 5,\n",
       " 'key6': 6}"
      ]
     },
     "execution_count": 3,
     "metadata": {},
     "output_type": "execute_result"
    }
   ],
   "source": [
    "# Create a dictionary\n",
    "Dict = {\"key1\": 1, \"key2\": \"2\", \"key3\": [3, 3, 3], \"key4\": (4, 4, 4), ('key5'): 5, ('key6'): 6}\n",
    "Dict"
   ]
  },
  {
   "cell_type": "code",
   "execution_count": 4,
   "id": "307a2cab-8bac-4e96-9a95-d664b454034a",
   "metadata": {},
   "outputs": [
    {
     "data": {
      "text/plain": [
       "[3, 3, 3]"
      ]
     },
     "execution_count": 4,
     "metadata": {},
     "output_type": "execute_result"
    }
   ],
   "source": [
    "# access the value by key\n",
    "Dict['key3']"
   ]
  },
  {
   "cell_type": "code",
   "execution_count": 5,
   "id": "6d5dfcbc-9177-4218-abc2-4d5018822748",
   "metadata": {},
   "outputs": [
    {
     "data": {
      "text/plain": [
       "dict_keys(['key1', 'key2', 'key3', 'key4', 'key5', 'key6'])"
      ]
     },
     "execution_count": 5,
     "metadata": {},
     "output_type": "execute_result"
    }
   ],
   "source": [
    "# get all the keys in the dictionary\n",
    "Dict.keys()"
   ]
  },
  {
   "cell_type": "code",
   "execution_count": 6,
   "id": "0d8f94af-8011-489a-85a8-d01928d359c9",
   "metadata": {},
   "outputs": [
    {
     "data": {
      "text/plain": [
       "dict_values([1, '2', [3, 3, 3], (4, 4, 4), 5, 6])"
      ]
     },
     "execution_count": 6,
     "metadata": {},
     "output_type": "execute_result"
    }
   ],
   "source": [
    "# get all of the values in the dictionary\n",
    "Dict.values()"
   ]
  },
  {
   "cell_type": "code",
   "execution_count": 8,
   "id": "b15312a1-e25a-47af-8eaa-691f9b3b7f6a",
   "metadata": {},
   "outputs": [
    {
     "data": {
      "text/plain": [
       "{'key1': 1,\n",
       " 'key2': '2',\n",
       " 'key3': [3, 3, 3],\n",
       " 'key4': (4, 4, 4),\n",
       " 'key5': 5,\n",
       " 'key6': 6,\n",
       " 'key7': 7000}"
      ]
     },
     "execution_count": 8,
     "metadata": {},
     "output_type": "execute_result"
    }
   ],
   "source": [
    "# Append values with key into dictionary\n",
    "Dict['key7']=7000\n",
    "Dict"
   ]
  },
  {
   "cell_type": "code",
   "execution_count": 9,
   "id": "cb3fde4f-baad-4fed-8900-bda0f5e30fe3",
   "metadata": {},
   "outputs": [
    {
     "data": {
      "text/plain": [
       "{'key1': 1, 'key2': '2', 'key3': [3, 3, 3], 'key5': 5, 'key6': 6, 'key7': 7000}"
      ]
     },
     "execution_count": 9,
     "metadata": {},
     "output_type": "execute_result"
    }
   ],
   "source": [
    "# delete entry by key\n",
    "del(Dict['key4'])\n",
    "Dict"
   ]
  },
  {
   "cell_type": "code",
   "execution_count": 10,
   "id": "ddaf2b5f-0a1d-44cd-898c-88e801bc5592",
   "metadata": {},
   "outputs": [
    {
     "data": {
      "text/plain": [
       "True"
      ]
     },
     "execution_count": 10,
     "metadata": {},
     "output_type": "execute_result"
    }
   ],
   "source": [
    "# verify a key is in the dictionary\n",
    "'key6' in Dict"
   ]
  },
  {
   "cell_type": "markdown",
   "id": "45733cf7-b6f9-4050-8c03-3b4a740a0e37",
   "metadata": {},
   "source": [
    "### Practice"
   ]
  },
  {
   "cell_type": "code",
   "execution_count": 11,
   "id": "15238df0-8fb7-4fe4-b94c-6dba16f00ca5",
   "metadata": {},
   "outputs": [
    {
     "data": {
      "text/plain": [
       "{'The Bodyguard': '1992', 'Saturday Night Fever': '1977'}"
      ]
     },
     "execution_count": 11,
     "metadata": {},
     "output_type": "execute_result"
    }
   ],
   "source": [
    "# Questions sample dictionary\n",
    "soundtrack_dic = {\"The Bodyguard\":\"1992\", \"Saturday Night Fever\":\"1977\"}\n",
    "soundtrack_dic "
   ]
  },
  {
   "cell_type": "code",
   "execution_count": 13,
   "id": "54d2aec1-015f-42b3-a93c-b41fcf502fc0",
   "metadata": {},
   "outputs": [
    {
     "data": {
      "text/plain": [
       "dict_keys(['The Bodyguard', 'Saturday Night Fever'])"
      ]
     },
     "execution_count": 13,
     "metadata": {},
     "output_type": "execute_result"
    }
   ],
   "source": [
    "# In the dictionary soundtrack_dic what are the keys ?\n",
    "soundtrack_dic.keys()"
   ]
  },
  {
   "cell_type": "code",
   "execution_count": 14,
   "id": "d9f62690-3d74-4e43-a5e5-194b05c77b77",
   "metadata": {},
   "outputs": [
    {
     "data": {
      "text/plain": [
       "dict_values(['1992', '1977'])"
      ]
     },
     "execution_count": 14,
     "metadata": {},
     "output_type": "execute_result"
    }
   ],
   "source": [
    "# In the dictionary soundtrack_dic what are the values ?\n",
    "soundtrack_dic.values()"
   ]
  },
  {
   "cell_type": "code",
   "execution_count": 15,
   "id": "0e2d6904-4131-4d1e-8b64-d2417048d690",
   "metadata": {},
   "outputs": [
    {
     "data": {
      "text/plain": [
       "{'Back in Black': 50, 'The Bodygaurd': 50, 'Thriller': 65}"
      ]
     },
     "execution_count": 15,
     "metadata": {},
     "output_type": "execute_result"
    }
   ],
   "source": [
    "# The Albums Back in Black, The Bodyguard and Thriller have the following music recording sales in millions 50, 50 and 65 respectively\n",
    "# Create a dictionary album_sales_dict where the keys are the album name and the sales in millions are the values.\n",
    "album_sales_dict = {'Back in Black':50,'The Bodygaurd':50,'Thriller':65}\n",
    "album_sales_dict"
   ]
  },
  {
   "cell_type": "code",
   "execution_count": 16,
   "id": "ef70a2be-718e-4e1a-aca2-48a2e39e810c",
   "metadata": {},
   "outputs": [
    {
     "data": {
      "text/plain": [
       "65"
      ]
     },
     "execution_count": 16,
     "metadata": {},
     "output_type": "execute_result"
    }
   ],
   "source": [
    "# Use the dictionary to find the total sales of Thriller:\n",
    "album_sales_dict['Thriller']"
   ]
  },
  {
   "cell_type": "code",
   "execution_count": 17,
   "id": "d240983a-65c7-49e6-935b-200515cddb09",
   "metadata": {},
   "outputs": [
    {
     "data": {
      "text/plain": [
       "dict_keys(['Back in Black', 'The Bodygaurd', 'Thriller'])"
      ]
     },
     "execution_count": 17,
     "metadata": {},
     "output_type": "execute_result"
    }
   ],
   "source": [
    "# Find the names of the albums from the dictionary using the method keys():\n",
    "album_sales_dict.keys()"
   ]
  },
  {
   "cell_type": "code",
   "execution_count": 18,
   "id": "7375b7f1-9d15-45a3-9454-0b1fa1ed4876",
   "metadata": {},
   "outputs": [
    {
     "data": {
      "text/plain": [
       "dict_values([50, 50, 65])"
      ]
     },
     "execution_count": 18,
     "metadata": {},
     "output_type": "execute_result"
    }
   ],
   "source": [
    "# Find the values of the recording sales from the dictionary using the method values:\n",
    "album_sales_dict.values()"
   ]
  },
  {
   "cell_type": "code",
   "execution_count": null,
   "id": "b9569e24-10f3-45b5-a1e7-25ef6536e2b4",
   "metadata": {},
   "outputs": [],
   "source": []
  }
 ],
 "metadata": {
  "kernelspec": {
   "display_name": "Python 3 (ipykernel)",
   "language": "python",
   "name": "python3"
  },
  "language_info": {
   "codemirror_mode": {
    "name": "ipython",
    "version": 3
   },
   "file_extension": ".py",
   "mimetype": "text/x-python",
   "name": "python",
   "nbconvert_exporter": "python",
   "pygments_lexer": "ipython3",
   "version": "3.9.12"
  }
 },
 "nbformat": 4,
 "nbformat_minor": 5
}
