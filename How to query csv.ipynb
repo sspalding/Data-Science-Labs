{
 "cells": [
  {
   "cell_type": "markdown",
   "metadata": {},
   "source": [
    "# how to query an SQL file"
   ]
  },
  {
   "cell_type": "code",
   "execution_count": 1,
   "metadata": {},
   "outputs": [],
   "source": [
    "import pandas as pd\n",
    "import sqlite3"
   ]
  },
  {
   "cell_type": "code",
   "execution_count": 3,
   "metadata": {},
   "outputs": [],
   "source": [
    "df = pd.read_csv(r'C:\\Users\\sspal\\Documents\\GitHub\\Data-Science-Labs\\Course9_Machine Learning with Python\\ratings.csv')\n",
    "# creates database, if db already exists just connects to db\n",
    "conn = sqlite3.connect(\"Ratings_Database.db\") # name it whatever i want, has to end in .db, no spaces\n",
    "# store table in database\n",
    "#df.to_sql('table_name',conn)\n",
    "# read a sql query out of your database and into a pandas dataframe\n",
    "sql_string = 'SELECT * FROM table_name'\n",
    "df = pd.read_sql(sql_string, conn)"
   ]
  },
  {
   "cell_type": "code",
   "execution_count": 4,
   "metadata": {},
   "outputs": [
    {
     "data": {
      "text/html": [
       "<div>\n",
       "<style scoped>\n",
       "    .dataframe tbody tr th:only-of-type {\n",
       "        vertical-align: middle;\n",
       "    }\n",
       "\n",
       "    .dataframe tbody tr th {\n",
       "        vertical-align: top;\n",
       "    }\n",
       "\n",
       "    .dataframe thead th {\n",
       "        text-align: right;\n",
       "    }\n",
       "</style>\n",
       "<table border=\"1\" class=\"dataframe\">\n",
       "  <thead>\n",
       "    <tr style=\"text-align: right;\">\n",
       "      <th></th>\n",
       "      <th>index</th>\n",
       "      <th>userId</th>\n",
       "      <th>movieId</th>\n",
       "      <th>rating</th>\n",
       "      <th>timestamp</th>\n",
       "    </tr>\n",
       "  </thead>\n",
       "  <tbody>\n",
       "    <tr>\n",
       "      <th>0</th>\n",
       "      <td>0</td>\n",
       "      <td>1</td>\n",
       "      <td>169</td>\n",
       "      <td>2.5</td>\n",
       "      <td>1204927694</td>\n",
       "    </tr>\n",
       "    <tr>\n",
       "      <th>1</th>\n",
       "      <td>1</td>\n",
       "      <td>1</td>\n",
       "      <td>2471</td>\n",
       "      <td>3.0</td>\n",
       "      <td>1204927438</td>\n",
       "    </tr>\n",
       "    <tr>\n",
       "      <th>2</th>\n",
       "      <td>2</td>\n",
       "      <td>1</td>\n",
       "      <td>48516</td>\n",
       "      <td>5.0</td>\n",
       "      <td>1204927435</td>\n",
       "    </tr>\n",
       "    <tr>\n",
       "      <th>3</th>\n",
       "      <td>3</td>\n",
       "      <td>2</td>\n",
       "      <td>2571</td>\n",
       "      <td>3.5</td>\n",
       "      <td>1436165433</td>\n",
       "    </tr>\n",
       "    <tr>\n",
       "      <th>4</th>\n",
       "      <td>4</td>\n",
       "      <td>2</td>\n",
       "      <td>109487</td>\n",
       "      <td>4.0</td>\n",
       "      <td>1436165496</td>\n",
       "    </tr>\n",
       "    <tr>\n",
       "      <th>...</th>\n",
       "      <td>...</td>\n",
       "      <td>...</td>\n",
       "      <td>...</td>\n",
       "      <td>...</td>\n",
       "      <td>...</td>\n",
       "    </tr>\n",
       "    <tr>\n",
       "      <th>22884372</th>\n",
       "      <td>22884372</td>\n",
       "      <td>247753</td>\n",
       "      <td>49530</td>\n",
       "      <td>5.0</td>\n",
       "      <td>1430437962</td>\n",
       "    </tr>\n",
       "    <tr>\n",
       "      <th>22884373</th>\n",
       "      <td>22884373</td>\n",
       "      <td>247753</td>\n",
       "      <td>69481</td>\n",
       "      <td>3.0</td>\n",
       "      <td>1430437984</td>\n",
       "    </tr>\n",
       "    <tr>\n",
       "      <th>22884374</th>\n",
       "      <td>22884374</td>\n",
       "      <td>247753</td>\n",
       "      <td>74458</td>\n",
       "      <td>4.0</td>\n",
       "      <td>1430437968</td>\n",
       "    </tr>\n",
       "    <tr>\n",
       "      <th>22884375</th>\n",
       "      <td>22884375</td>\n",
       "      <td>247753</td>\n",
       "      <td>76093</td>\n",
       "      <td>5.0</td>\n",
       "      <td>1430437811</td>\n",
       "    </tr>\n",
       "    <tr>\n",
       "      <th>22884376</th>\n",
       "      <td>22884376</td>\n",
       "      <td>247753</td>\n",
       "      <td>130636</td>\n",
       "      <td>0.5</td>\n",
       "      <td>1430437721</td>\n",
       "    </tr>\n",
       "  </tbody>\n",
       "</table>\n",
       "<p>22884377 rows × 5 columns</p>\n",
       "</div>"
      ],
      "text/plain": [
       "             index  userId  movieId  rating   timestamp\n",
       "0                0       1      169     2.5  1204927694\n",
       "1                1       1     2471     3.0  1204927438\n",
       "2                2       1    48516     5.0  1204927435\n",
       "3                3       2     2571     3.5  1436165433\n",
       "4                4       2   109487     4.0  1436165496\n",
       "...            ...     ...      ...     ...         ...\n",
       "22884372  22884372  247753    49530     5.0  1430437962\n",
       "22884373  22884373  247753    69481     3.0  1430437984\n",
       "22884374  22884374  247753    74458     4.0  1430437968\n",
       "22884375  22884375  247753    76093     5.0  1430437811\n",
       "22884376  22884376  247753   130636     0.5  1430437721\n",
       "\n",
       "[22884377 rows x 5 columns]"
      ]
     },
     "execution_count": 4,
     "metadata": {},
     "output_type": "execute_result"
    }
   ],
   "source": [
    "df"
   ]
  },
  {
   "cell_type": "code",
   "execution_count": null,
   "metadata": {},
   "outputs": [],
   "source": []
  }
 ],
 "metadata": {
  "kernelspec": {
   "display_name": "Python 3.10.1 64-bit",
   "language": "python",
   "name": "python3"
  },
  "language_info": {
   "codemirror_mode": {
    "name": "ipython",
    "version": 3
   },
   "file_extension": ".py",
   "mimetype": "text/x-python",
   "name": "python",
   "nbconvert_exporter": "python",
   "pygments_lexer": "ipython3",
   "version": "3.10.1"
  },
  "orig_nbformat": 4,
  "vscode": {
   "interpreter": {
    "hash": "d404347084406b8c6d005244449b7dd5f725b5df89987d39dd27b81ada4d10f3"
   }
  }
 },
 "nbformat": 4,
 "nbformat_minor": 2
}
