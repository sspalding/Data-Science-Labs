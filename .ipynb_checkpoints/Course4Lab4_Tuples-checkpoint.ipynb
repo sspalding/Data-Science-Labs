{
 "cells": [
  {
   "cell_type": "markdown",
   "id": "b87e8874-42c4-4549-8ddf-02c73e745884",
   "metadata": {},
   "source": [
    "# Course 4 Lab 4 - Tuples"
   ]
  },
  {
   "cell_type": "code",
   "execution_count": 1,
   "id": "e8adf004-c9ed-4d5f-a9d1-7e9fed126933",
   "metadata": {},
   "outputs": [
    {
     "data": {
      "text/plain": [
       "('disco', 10, 1.3)"
      ]
     },
     "execution_count": 1,
     "metadata": {},
     "output_type": "execute_result"
    }
   ],
   "source": [
    "# create a tuple, tuples can constain str, int, and floats\n",
    "tuple1 = ('disco',10,1.3)\n",
    "tuple1"
   ]
  },
  {
   "cell_type": "code",
   "execution_count": 2,
   "id": "d54c754f-9e3a-45e7-a35b-ca1b0f08102e",
   "metadata": {},
   "outputs": [
    {
     "data": {
      "text/plain": [
       "tuple"
      ]
     },
     "execution_count": 2,
     "metadata": {},
     "output_type": "execute_result"
    }
   ],
   "source": [
    "# print the type\n",
    "type(tuple1)"
   ]
  },
  {
   "cell_type": "markdown",
   "id": "8f45ad64-aa66-4dad-aa25-a9ed7ea48c47",
   "metadata": {},
   "source": [
    "### Indexing"
   ]
  },
  {
   "cell_type": "code",
   "execution_count": 3,
   "id": "0315422b-1461-4e7a-881a-2d41ab11e8ab",
   "metadata": {},
   "outputs": [
    {
     "data": {
      "text/plain": [
       "'disco'"
      ]
     },
     "execution_count": 3,
     "metadata": {},
     "output_type": "execute_result"
    }
   ],
   "source": [
    "# print the variable in the first index\n",
    "tuple1[0]"
   ]
  },
  {
   "cell_type": "code",
   "execution_count": 4,
   "id": "ff8fcbb5-7bb3-41fd-9155-3ddaa8119c84",
   "metadata": {},
   "outputs": [
    {
     "data": {
      "text/plain": [
       "1.3"
      ]
     },
     "execution_count": 4,
     "metadata": {},
     "output_type": "execute_result"
    }
   ],
   "source": [
    "# can also do negative indexing\n",
    "tuple1[-1]"
   ]
  },
  {
   "cell_type": "markdown",
   "id": "27b97708-b190-4f38-840f-dad966a2888d",
   "metadata": {},
   "source": [
    "### Concatonate Tuples"
   ]
  },
  {
   "cell_type": "code",
   "execution_count": 5,
   "id": "64d21d81-090f-4bd4-a768-0942107d4121",
   "metadata": {},
   "outputs": [
    {
     "data": {
      "text/plain": [
       "('disco', 10, 1.3, 'hard rock', 10)"
      ]
     },
     "execution_count": 5,
     "metadata": {},
     "output_type": "execute_result"
    }
   ],
   "source": [
    "# combine tuples using +\n",
    "tuple2 = tuple1 + ('hard rock',10)\n",
    "tuple2"
   ]
  },
  {
   "cell_type": "markdown",
   "id": "ae98f569-fd1d-4ce3-961d-dce66ad24ced",
   "metadata": {},
   "source": [
    "### Slicing"
   ]
  },
  {
   "cell_type": "code",
   "execution_count": 6,
   "id": "c8916134-b052-4016-a6de-3dfe2d2148ce",
   "metadata": {},
   "outputs": [
    {
     "data": {
      "text/plain": [
       "('hard rock', 10)"
      ]
     },
     "execution_count": 6,
     "metadata": {},
     "output_type": "execute_result"
    }
   ],
   "source": [
    "# slice tuple to get the last two values\n",
    "tuple2[3:5]"
   ]
  },
  {
   "cell_type": "code",
   "execution_count": 7,
   "id": "b3b754a9-a4c1-4d61-be1b-8c1108c0b8d6",
   "metadata": {},
   "outputs": [
    {
     "data": {
      "text/plain": [
       "5"
      ]
     },
     "execution_count": 7,
     "metadata": {},
     "output_type": "execute_result"
    }
   ],
   "source": [
    "# get the length of the tuple \n",
    "len(tuple2)"
   ]
  },
  {
   "cell_type": "markdown",
   "id": "aba663dc-067c-4c48-be9f-5d33c18ca279",
   "metadata": {},
   "source": [
    "### Sorting"
   ]
  },
  {
   "cell_type": "code",
   "execution_count": 9,
   "id": "29ac1a49-44e6-4ff8-b3ce-6544f1dd1217",
   "metadata": {},
   "outputs": [
    {
     "data": {
      "text/plain": [
       "[1, 6, 33, 64, 100, 295, 394, 400]"
      ]
     },
     "execution_count": 9,
     "metadata": {},
     "output_type": "execute_result"
    }
   ],
   "source": [
    "# sort the tuple\n",
    "values = (1,100,394,64,295,6,33,400)\n",
    "valuesSorted = sorted(values)\n",
    "valuesSorted"
   ]
  },
  {
   "cell_type": "markdown",
   "id": "37a9c14c-b1d6-4ca6-a705-6100c996fb42",
   "metadata": {},
   "source": [
    "### Nested Tuple"
   ]
  },
  {
   "cell_type": "code",
   "execution_count": 11,
   "id": "ab31754c-8e1f-496e-bf53-34c20680fd43",
   "metadata": {},
   "outputs": [
    {
     "data": {
      "text/plain": [
       "(1, 2, (23, 'cat'), (33, ('red', 'blue', 3), 21), 45)"
      ]
     },
     "execution_count": 11,
     "metadata": {},
     "output_type": "execute_result"
    }
   ],
   "source": [
    "# Create a nested tuple\n",
    "T = (1,2,(23,'cat'),(33,(\"red\",'blue',3),21),45)\n",
    "T"
   ]
  },
  {
   "cell_type": "code",
   "execution_count": 12,
   "id": "59c5bfd0-5c8a-4931-9b81-3524e48818a5",
   "metadata": {},
   "outputs": [
    {
     "data": {
      "text/plain": [
       "'cat'"
      ]
     },
     "execution_count": 12,
     "metadata": {},
     "output_type": "execute_result"
    }
   ],
   "source": [
    "# access elements by indexing\n",
    "T[2][1]"
   ]
  },
  {
   "cell_type": "code",
   "execution_count": 13,
   "id": "066bb1a2-550c-40ba-8616-340716b4fd38",
   "metadata": {},
   "outputs": [
    {
     "data": {
      "text/plain": [
       "'b'"
      ]
     },
     "execution_count": 13,
     "metadata": {},
     "output_type": "execute_result"
    }
   ],
   "source": [
    "# access specific letters of elements\n",
    "T[3][1][1][0]"
   ]
  },
  {
   "cell_type": "markdown",
   "id": "3d432c1c-f655-4ec4-84ba-b50dc9ac5567",
   "metadata": {},
   "source": [
    "### Practice"
   ]
  },
  {
   "cell_type": "code",
   "execution_count": 14,
   "id": "9e36d91d-493b-470c-9e29-cd9ef08cda3d",
   "metadata": {},
   "outputs": [
    {
     "data": {
      "text/plain": [
       "8"
      ]
     },
     "execution_count": 14,
     "metadata": {},
     "output_type": "execute_result"
    }
   ],
   "source": [
    "# find the length of the tuple\n",
    "genres_tuple = (\"pop\", \"rock\", \"soul\", \"hard rock\", \"soft rock\", \\\n",
    "                \"R&B\", \"progressive rock\", \"disco\") \n",
    "len(genres_tuple)"
   ]
  },
  {
   "cell_type": "code",
   "execution_count": 15,
   "id": "9199bf48-ac28-4e2c-9d11-01ccd9daa3ec",
   "metadata": {},
   "outputs": [
    {
     "data": {
      "text/plain": [
       "'hard rock'"
      ]
     },
     "execution_count": 15,
     "metadata": {},
     "output_type": "execute_result"
    }
   ],
   "source": [
    "# access index 3\n",
    "genres_tuple[3]"
   ]
  },
  {
   "cell_type": "code",
   "execution_count": 20,
   "id": "ced8e72a-36a0-4cd2-b44d-ca46bde15117",
   "metadata": {},
   "outputs": [
    {
     "data": {
      "text/plain": [
       "('hard rock', 'soft rock', 'R&B')"
      ]
     },
     "execution_count": 20,
     "metadata": {},
     "output_type": "execute_result"
    }
   ],
   "source": [
    "# Use slicing to obtain indexes 3, 4 and 5\n",
    "genres_tuple[3:6]"
   ]
  },
  {
   "cell_type": "code",
   "execution_count": 21,
   "id": "6c93df27-e854-43de-8533-74dec0f2b701",
   "metadata": {},
   "outputs": [
    {
     "data": {
      "text/plain": [
       "('pop', 'rock')"
      ]
     },
     "execution_count": 21,
     "metadata": {},
     "output_type": "execute_result"
    }
   ],
   "source": [
    "# Find the first two elements of the tuple genres_tuple\n",
    "genres_tuple[0:2]"
   ]
  },
  {
   "cell_type": "code",
   "execution_count": 23,
   "id": "9dbef5ab-6f21-48e7-8f67-d2a76e13e5e5",
   "metadata": {},
   "outputs": [
    {
     "data": {
      "text/plain": [
       "'d'"
      ]
     },
     "execution_count": 23,
     "metadata": {},
     "output_type": "execute_result"
    }
   ],
   "source": [
    "# Find the first index of \"disco\"\n",
    "genres_tuple[-1][0]\n",
    "# another solution is genres_tuple.index('disco')"
   ]
  },
  {
   "cell_type": "code",
   "execution_count": 25,
   "id": "2636aa17-11df-4340-beac-922ec7211e4b",
   "metadata": {},
   "outputs": [
    {
     "data": {
      "text/plain": [
       "[-5, -3, 1]"
      ]
     },
     "execution_count": 25,
     "metadata": {},
     "output_type": "execute_result"
    }
   ],
   "source": [
    "# Generate a sorted List from the Tuple C_tuple=(-5, 1, -3)\n",
    "C_tuple = (-5, 1, -3)\n",
    "C_Sorted = sorted(C_tuple)\n",
    "C_Sorted"
   ]
  },
  {
   "cell_type": "code",
   "execution_count": null,
   "id": "ae327b23-7262-4b66-943c-87d1c4621b78",
   "metadata": {},
   "outputs": [],
   "source": []
  }
 ],
 "metadata": {
  "kernelspec": {
   "display_name": "Python 3 (ipykernel)",
   "language": "python",
   "name": "python3"
  },
  "language_info": {
   "codemirror_mode": {
    "name": "ipython",
    "version": 3
   },
   "file_extension": ".py",
   "mimetype": "text/x-python",
   "name": "python",
   "nbconvert_exporter": "python",
   "pygments_lexer": "ipython3",
   "version": "3.9.12"
  }
 },
 "nbformat": 4,
 "nbformat_minor": 5
}
