{
 "cells": [
  {
   "cell_type": "markdown",
   "id": "ee36a720-863d-4b2b-85d9-4d2e694d1e3e",
   "metadata": {},
   "source": [
    "# Course 4 Lab 1 - Basic Python Code "
   ]
  },
  {
   "cell_type": "markdown",
   "id": "96f230bc-c74b-4ac4-b3dc-95ea88946acd",
   "metadata": {},
   "source": [
    "## Basics"
   ]
  },
  {
   "cell_type": "code",
   "execution_count": 1,
   "id": "64318419-050b-4c39-b8c8-1b4c921eef4a",
   "metadata": {},
   "outputs": [
    {
     "name": "stdout",
     "output_type": "stream",
     "text": [
      "Hello, Python!\n"
     ]
    }
   ],
   "source": [
    "# print hello world\n",
    "print('Hello, Python!')"
   ]
  },
  {
   "cell_type": "markdown",
   "id": "3e0b3727-43f0-4679-a379-2d25680225ee",
   "metadata": {},
   "source": [
    "- Print is the function, the string \"Hello, Python!\" is the argument"
   ]
  },
  {
   "cell_type": "code",
   "execution_count": 2,
   "id": "1a1f07fc-52dc-47df-8f99-cfab60f7f916",
   "metadata": {},
   "outputs": [
    {
     "name": "stdout",
     "output_type": "stream",
     "text": [
      "3.9.12 (main, Apr  4 2022, 05:22:27) [MSC v.1916 64 bit (AMD64)]\n"
     ]
    }
   ],
   "source": [
    "#check the python version\n",
    "import sys\n",
    "print(sys.version)"
   ]
  },
  {
   "cell_type": "markdown",
   "id": "cc16c704-efba-4e71-8a47-58280ed2face",
   "metadata": {},
   "source": [
    "- sys is a built in module that contains system specific parameters and functions, we must import it before using it"
   ]
  },
  {
   "cell_type": "markdown",
   "id": "93466138-8905-4a61-abe0-dfce3c738114",
   "metadata": {},
   "source": [
    "- Comments are denoted by the # and are not run as code"
   ]
  },
  {
   "cell_type": "markdown",
   "id": "a7372997-e49c-48af-a9ca-097ad891c9aa",
   "metadata": {},
   "source": [
    "- python is an interpreted language\n",
    "- compiled languages examine the entire program at compile time and are able to warn you about errors prior to execution\n",
    "- python interprets the script line by line as it executes it "
   ]
  },
  {
   "cell_type": "markdown",
   "id": "5f3e69e3-9d78-4461-8d52-596121b26e5c",
   "metadata": {},
   "source": [
    "## Types"
   ]
  },
  {
   "cell_type": "code",
   "execution_count": 5,
   "id": "dbce0055-f22c-48de-8c6e-84407b949a12",
   "metadata": {},
   "outputs": [
    {
     "name": "stdout",
     "output_type": "stream",
     "text": [
      "<class 'int'> <class 'float'> <class 'str'>\n"
     ]
    }
   ],
   "source": [
    "# use the type functions to tell us the type of variables\n",
    "x = type(12)\n",
    "y = type(2.14)\n",
    "z = type('hello')\n",
    "print(x,y,z)"
   ]
  },
  {
   "cell_type": "code",
   "execution_count": 6,
   "id": "94f84578-c29f-44f5-93c3-a76b370bd24d",
   "metadata": {},
   "outputs": [
    {
     "data": {
      "text/plain": [
       "sys.float_info(max=1.7976931348623157e+308, max_exp=1024, max_10_exp=308, min=2.2250738585072014e-308, min_exp=-1021, min_10_exp=-307, dig=15, mant_dig=53, epsilon=2.220446049250313e-16, radix=2, rounds=1)"
      ]
     },
     "execution_count": 6,
     "metadata": {},
     "output_type": "execute_result"
    }
   ],
   "source": [
    "# use sys.float_info to tell what the largest and smallest number that can be represented is\n",
    "sys.float_info"
   ]
  },
  {
   "cell_type": "code",
   "execution_count": 8,
   "id": "710baba9-aa00-4fd8-b36e-d4d639105736",
   "metadata": {},
   "outputs": [
    {
     "name": "stdout",
     "output_type": "stream",
     "text": [
      "<class 'int'>\n"
     ]
    },
    {
     "data": {
      "text/plain": [
       "float"
      ]
     },
     "execution_count": 8,
     "metadata": {},
     "output_type": "execute_result"
    }
   ],
   "source": [
    "#convert from one type to another\n",
    "a = type(2)\n",
    "print(a)\n",
    "float(2)\n",
    "type(float(2))"
   ]
  },
  {
   "cell_type": "code",
   "execution_count": 9,
   "id": "52f71019-d29d-48c9-b20c-f8b7cfa8113b",
   "metadata": {},
   "outputs": [
    {
     "data": {
      "text/plain": [
       "bool"
      ]
     },
     "execution_count": 9,
     "metadata": {},
     "output_type": "execute_result"
    }
   ],
   "source": [
    "# booleans give us True and False\n",
    "type(True)"
   ]
  },
  {
   "cell_type": "code",
   "execution_count": 10,
   "id": "6ceb845d-8516-4280-b1b8-a1be49f3f67e",
   "metadata": {},
   "outputs": [
    {
     "data": {
      "text/plain": [
       "1"
      ]
     },
     "execution_count": 10,
     "metadata": {},
     "output_type": "execute_result"
    }
   ],
   "source": [
    "# we can convert a bool to a int\n",
    "int(True)"
   ]
  },
  {
   "cell_type": "markdown",
   "id": "0c1839f3-8c00-4f44-850b-b53fd249c482",
   "metadata": {
    "tags": []
   },
   "source": [
    "### Type Exercise"
   ]
  },
  {
   "cell_type": "code",
   "execution_count": 11,
   "id": "71a01965-050a-46d6-981b-678de226b50d",
   "metadata": {},
   "outputs": [
    {
     "data": {
      "text/plain": [
       "float"
      ]
     },
     "execution_count": 11,
     "metadata": {},
     "output_type": "execute_result"
    }
   ],
   "source": [
    "# what data type is the result of 6/2\n",
    "type(6/2)"
   ]
  },
  {
   "cell_type": "code",
   "execution_count": 12,
   "id": "bfd9b895-892a-4155-b1e2-69e79d89d8d9",
   "metadata": {},
   "outputs": [
    {
     "data": {
      "text/plain": [
       "int"
      ]
     },
     "execution_count": 12,
     "metadata": {},
     "output_type": "execute_result"
    }
   ],
   "source": [
    "# what data type is the result of 6//2\n",
    "type(6//2)"
   ]
  },
  {
   "cell_type": "markdown",
   "id": "1985f705-4399-4b5c-9f54-2f6b2a59b8e7",
   "metadata": {},
   "source": [
    "## Expressions"
   ]
  },
  {
   "cell_type": "code",
   "execution_count": 13,
   "id": "6514c877-b8f9-4e3a-8f19-357bf9abede7",
   "metadata": {},
   "outputs": [
    {
     "data": {
      "text/plain": [
       "10"
      ]
     },
     "execution_count": 13,
     "metadata": {},
     "output_type": "execute_result"
    }
   ],
   "source": [
    "# addition\n",
    "1+2+3+4"
   ]
  },
  {
   "cell_type": "code",
   "execution_count": 14,
   "id": "a77a073f-4f2c-435e-ae23-19e53450ebdc",
   "metadata": {},
   "outputs": [
    {
     "data": {
      "text/plain": [
       "2"
      ]
     },
     "execution_count": 14,
     "metadata": {},
     "output_type": "execute_result"
    }
   ],
   "source": [
    "#subtrations\n",
    "4-2"
   ]
  },
  {
   "cell_type": "code",
   "execution_count": 15,
   "id": "9a4abfbb-81cd-4edc-b0d2-1bb947d59004",
   "metadata": {},
   "outputs": [
    {
     "data": {
      "text/plain": [
       "25"
      ]
     },
     "execution_count": 15,
     "metadata": {},
     "output_type": "execute_result"
    }
   ],
   "source": [
    "# multiplication\n",
    "5*5"
   ]
  },
  {
   "cell_type": "code",
   "execution_count": 16,
   "id": "3b68a085-4d81-400b-b36f-740633019138",
   "metadata": {},
   "outputs": [
    {
     "data": {
      "text/plain": [
       "5.0"
      ]
     },
     "execution_count": 16,
     "metadata": {},
     "output_type": "execute_result"
    }
   ],
   "source": [
    "# division\n",
    "25/5"
   ]
  },
  {
   "cell_type": "code",
   "execution_count": 17,
   "id": "88136f25-5ea3-479b-bfb7-afce803dd0ba",
   "metadata": {},
   "outputs": [
    {
     "data": {
      "text/plain": [
       "5"
      ]
     },
     "execution_count": 17,
     "metadata": {},
     "output_type": "execute_result"
    }
   ],
   "source": [
    "# integer division\n",
    "25//5"
   ]
  },
  {
   "cell_type": "markdown",
   "id": "06ef9f21-83db-4810-9ffa-31857d500451",
   "metadata": {},
   "source": [
    "### Expression Exercise"
   ]
  },
  {
   "cell_type": "code",
   "execution_count": 21,
   "id": "0143898d-0f85-48fe-bc03-4cc35d8d5a73",
   "metadata": {},
   "outputs": [
    {
     "name": "stdout",
     "output_type": "stream",
     "text": [
      "2.6666666666666665\n"
     ]
    }
   ],
   "source": [
    "# calculate how many hours are in 160 minutes\n",
    "NumberMinutes = 160\n",
    "NumberHours = NumberMinutes/60\n",
    "print(NumberHours)"
   ]
  },
  {
   "cell_type": "markdown",
   "id": "de491d01-6d4a-4996-a1b5-2b99d81642a5",
   "metadata": {
    "tags": []
   },
   "source": [
    "## Variables"
   ]
  },
  {
   "cell_type": "code",
   "execution_count": 22,
   "id": "2dc932b6-ca77-43eb-b16a-252ae791cd0c",
   "metadata": {},
   "outputs": [
    {
     "name": "stdout",
     "output_type": "stream",
     "text": [
      "17\n"
     ]
    }
   ],
   "source": [
    "# we store values in variables\n",
    "x = 1+2+14\n",
    "print(x)"
   ]
  },
  {
   "cell_type": "markdown",
   "id": "6324eb95-2475-4353-959c-01501f463f14",
   "metadata": {},
   "source": [
    "### Variables Exercise"
   ]
  },
  {
   "cell_type": "code",
   "execution_count": 24,
   "id": "f0ef5a7d-3e77-4cb9-aa73-d180d3e5f01d",
   "metadata": {},
   "outputs": [
    {
     "name": "stdout",
     "output_type": "stream",
     "text": [
      "7\n"
     ]
    }
   ],
   "source": [
    "# what is the value of x where x = 3+2*2\n",
    "x = 3+2*2\n",
    "print(x)"
   ]
  },
  {
   "cell_type": "code",
   "execution_count": 25,
   "id": "9cfbcb92-ece1-4b98-b911-615051df4c57",
   "metadata": {},
   "outputs": [
    {
     "name": "stdout",
     "output_type": "stream",
     "text": [
      "10\n"
     ]
    }
   ],
   "source": [
    "# what is the value of y where y = (3+2)*2\n",
    "y = (3+2)*2\n",
    "print(y)"
   ]
  },
  {
   "cell_type": "code",
   "execution_count": 27,
   "id": "527e80f2-79a5-4c85-b883-bca970636573",
   "metadata": {},
   "outputs": [
    {
     "name": "stdout",
     "output_type": "stream",
     "text": [
      "17\n"
     ]
    }
   ],
   "source": [
    "# what is the value of z where z = x+y\n",
    "x = 3+2*2\n",
    "y = (3+2)*2\n",
    "z = x+y\n",
    "print(z)"
   ]
  }
 ],
 "metadata": {
  "kernelspec": {
   "display_name": "Python 3 (ipykernel)",
   "language": "python",
   "name": "python3"
  },
  "language_info": {
   "codemirror_mode": {
    "name": "ipython",
    "version": 3
   },
   "file_extension": ".py",
   "mimetype": "text/x-python",
   "name": "python",
   "nbconvert_exporter": "python",
   "pygments_lexer": "ipython3",
   "version": "3.9.12"
  }
 },
 "nbformat": 4,
 "nbformat_minor": 5
}
